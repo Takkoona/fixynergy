{
 "cells": [
  {
   "cell_type": "code",
   "execution_count": 1,
   "metadata": {},
   "outputs": [],
   "source": [
    "# Uncomment and run to reload libs\n",
    "# import importlib, utils; importlib.reload(utils)\n",
    "# import importlib, utils.miscellaneous; importlib.reload(utils.miscellaneous)\n",
    "# import importlib, utils.reader; importlib.reload(utils.reader)\n",
    "\n",
    "\n",
    "from datetime import timedelta\n",
    "from collections import defaultdict\n",
    "from multiprocessing import Pool, cpu_count, Manager, managers\n",
    "\n",
    "import numpy as np\n",
    "import pandas as pd\n",
    "from matplotlib import pyplot as plt\n",
    "from matplotlib.dates import DateFormatter\n",
    "from matplotlib import cm\n",
    "from matplotlib.colors import rgb2hex\n",
    "\n",
    "from utils import (\n",
    "    logging,\n",
    "    AVERAGE_PERIOD,\n",
    "    MIN_TOTAL_NUM,\n",
    "    FIXATION_PERCENTAGE,\n",
    "    FIXATION_DAYS_THESHOLD,\n",
    "    TOTAL_NUM_FILE,\n",
    "    FIXATION_LINKAGE_FILE,\n",
    "    MUTATION_TREND_PLOT,\n",
    "    FIXATION_LABEL_PLOT,\n",
    "    ALL_MUT_SETS_FILE,\n",
    "    ALL_AA_COMBO_FILE,\n",
    ")\n",
    "from utils.reader import MutationPerSeqReader\n",
    "from utils.miscellaneous import aa_per_seq\n"
   ]
  },
  {
   "cell_type": "code",
   "execution_count": 2,
   "metadata": {},
   "outputs": [],
   "source": [
    "mut_reader: MutationPerSeqReader = MutationPerSeqReader()\n",
    "mut_reader.area_filter()\n",
    "mut_reader.protein_filter()\n",
    "mut_reader.deletion_filter()\n",
    "df_area_protein: pd.DataFrame = mut_reader.get_data()\n",
    "wt_area_protein: pd.DataFrame = mut_reader.get_wt()\n"
   ]
  },
  {
   "cell_type": "code",
   "execution_count": 3,
   "metadata": {},
   "outputs": [
    {
     "name": "stdout",
     "output_type": "stream",
     "text": [
      "Spike\n"
     ]
    }
   ],
   "source": [
    "for p in df_area_protein[\"Protein\"].unique():\n",
    "    p_wt = wt_area_protein.copy(deep=True)\n",
    "    p_wt[\"Protein\"] = p\n",
    "    df_area_protein = pd.concat([df_area_protein, p_wt], axis=0)\n",
    "    print(p)\n"
   ]
  },
  {
   "cell_type": "code",
   "execution_count": 4,
   "metadata": {},
   "outputs": [],
   "source": [
    "total_num: pd.DataFrame = df_area_protein[[\"Accession\", \"Date\"]].drop_duplicates()\n",
    "total_num = total_num[\"Date\"].value_counts().rename(\"Total\").to_frame()\n",
    "all_date_range = pd.date_range(\n",
    "    start=min(total_num.index),\n",
    "    end=max(total_num.index),\n",
    ")\n",
    "total_num = total_num.reindex(all_date_range)\n",
    "total_num = total_num.fillna(0)\n",
    "total_num.to_csv(TOTAL_NUM_FILE)\n",
    "\n",
    "total_num[\"Avg_total\"] = total_num[\"Total\"].rolling(AVERAGE_PERIOD).mean()\n",
    "total_num = total_num.dropna()\n"
   ]
  },
  {
   "cell_type": "code",
   "execution_count": 5,
   "metadata": {},
   "outputs": [],
   "source": [
    "all_fixed_mut = {}\n",
    "mut_group: pd.DataFrame\n",
    "for mut, mut_group in df_area_protein.groupby(\"Mutation\", sort=False):\n",
    "    logging.info(mut)\n",
    "    mut_num = []\n",
    "    mut_counts: dict = mut_group[\"Date\"].value_counts().to_dict()\n",
    "    for c_date in all_date_range:\n",
    "        mut_num.append({\n",
    "            \"Mutation\": mut,\n",
    "            \"Date\": c_date,\n",
    "            \"Num\": mut_counts.get(c_date, 0)\n",
    "        })\n",
    "    mut_num = pd.DataFrame.from_records(mut_num)\n",
    "    mut_num = mut_num.sort_values(\"Date\")\n",
    "    mut_num[\"Avg_num\"] = mut_num[\"Num\"].rolling(AVERAGE_PERIOD).mean()\n",
    "    mut_num = mut_num.dropna()\n",
    "    mut_num = pd.merge(\n",
    "        mut_num,\n",
    "        total_num,\n",
    "        left_on=\"Date\",\n",
    "        right_index=True,\n",
    "    )\n",
    "    mut_num[\"Percentage\"] = mut_num[\"Avg_num\"] / mut_num[\"Avg_total\"]\n",
    "    if sum((mut_num[\"Avg_total\"] > MIN_TOTAL_NUM) &\n",
    "           (mut_num[\"Percentage\"] > FIXATION_PERCENTAGE)) > FIXATION_DAYS_THESHOLD:\n",
    "        all_fixed_mut[mut] = mut_num\n"
   ]
  },
  {
   "cell_type": "code",
   "execution_count": 6,
   "metadata": {},
   "outputs": [],
   "source": [
    "x_pos = pd.date_range(start=min(mut_num[\"Date\"]), end=max(mut_num[\"Date\"]))\n",
    "\n",
    "# Select mutation for target protein\n",
    "rows = [i for i in all_fixed_mut.keys()]\n",
    "# Matrix of mutation daily percentage\n",
    "mut_percentage_mat = []\n",
    "\n",
    "fig, axes = plt.subplots(\n",
    "    nrows=len(rows),\n",
    "    ncols=2,\n",
    "    sharex=True,\n",
    "    sharey=\"col\",\n",
    "    figsize=(10, 2 * len(rows))\n",
    ")\n",
    "\n",
    "for mut, (ax, ax2) in zip(rows, axes):\n",
    "    mut_daily: pd.DataFrame = all_fixed_mut[mut]\n",
    "\n",
    "    mut_percentage_mat.append(mut_daily[[\"Date\", \"Percentage\", \"Mutation\"]])\n",
    "\n",
    "    ax.fill_between(mut_daily[\"Date\"], 0, mut_daily[\"Total\"], label=\"Background\", facecolor='#AFDAE8')\n",
    "    ax.fill_between(mut_daily[\"Date\"], 0, mut_daily[\"Num\"], label=\"Mutation\", facecolor='#F7E15F')\n",
    "    ax.tick_params(axis='x', labelrotation=60)\n",
    "    ax.set_xlim([x_pos[1], x_pos[-1]])\n",
    "    ax.xaxis.set_major_formatter(DateFormatter('%b %Y'))\n",
    "    ax.set_ylabel(mut)\n",
    "\n",
    "    # Show trajectory of the mutations (emphasize the current)\n",
    "    for mut2 in rows:\n",
    "        if mut2 == mut:\n",
    "            ax2.plot_date(\n",
    "                mut_daily[\"Date\"],\n",
    "                mut_daily[\"Percentage\"],\n",
    "                \".-\",\n",
    "            )\n",
    "        else:\n",
    "            ax2.plot_date(\n",
    "                all_fixed_mut[mut2][\"Date\"],\n",
    "                all_fixed_mut[mut2][\"Percentage\"],\n",
    "                \"-\",\n",
    "                alpha=0.5\n",
    "            )\n",
    "    ax2.tick_params(axis='x', labelrotation=60)\n",
    "    ax2.set_xlim([x_pos[1], x_pos[-1]])\n",
    "    ax2.xaxis.set_major_formatter(DateFormatter('%b %Y'))\n",
    "\n",
    "mut_percentage_mat: pd.DataFrame = pd.concat(mut_percentage_mat)\n",
    "mut_percentage_mat = mut_percentage_mat.pivot(index=\"Date\", columns=\"Mutation\", values=\"Percentage\")\n",
    "mut_percentage_mat = mut_percentage_mat.fillna(0)\n",
    "\n",
    "# plt.show()\n",
    "plt.savefig(MUTATION_TREND_PLOT, bbox_inches=\"tight\")\n",
    "plt.close()\n"
   ]
  },
  {
   "cell_type": "code",
   "execution_count": 7,
   "metadata": {},
   "outputs": [],
   "source": [
    "mut_state_count = defaultdict(list)\n",
    "for d, mut_state in (mut_percentage_mat > FIXATION_PERCENTAGE).iterrows():\n",
    "    mut_state = tuple(mut_percentage_mat.columns.values[mut_state])\n",
    "    if len(mut_state):\n",
    "        mut_state_count[mut_state].append(d)\n",
    "\n",
    "labels = []\n",
    "for mut_state, c_dates in mut_state_count.items():\n",
    "    if len(c_dates) > 30:\n",
    "        labels = [\n",
    "            *labels,\n",
    "            *[{\"label\": \", \".join(mut_state), \"date\": d}\n",
    "                for d in c_dates]\n",
    "        ]\n",
    "labels = pd.DataFrame.from_records(labels, index=\"date\")\n",
    "# labels = labels.reset_index(level=0)\n",
    "\n",
    "labels.to_csv(FIXATION_LINKAGE_FILE, index=True)\n",
    "logging.info(f\"{FIXATION_LINKAGE_FILE} saved\")\n"
   ]
  },
  {
   "cell_type": "code",
   "execution_count": 8,
   "metadata": {},
   "outputs": [
    {
     "data": {
      "image/png": "[encoded data removed]",
      "text/plain": [
       "<Figure size 432x288 with 1 Axes>"
      ]
     },
     "metadata": {
      "needs_background": "light"
     },
     "output_type": "display_data"
    }
   ],
   "source": [
    "n_labels = labels[\"label\"].nunique()\n",
    "logging.info(f\"{n_labels} clusters\")\n",
    "\n",
    "cluster_colors = {\n",
    "    i: rgb2hex(c[:3])\n",
    "    for i, c in zip(labels[\"label\"].unique(),\n",
    "                    cm.rainbow(np.linspace(0, 1, n_labels)))\n",
    "}\n",
    "\n",
    "for mut in rows:\n",
    "    _ = plt.plot(\n",
    "        mut_percentage_mat[mut].index.values,\n",
    "        mut_percentage_mat[mut].values,\n",
    "        \".-\",\n",
    "        label=mut\n",
    "    )\n",
    "\n",
    "xlim_l, xlim_r = plt.xlim([x_pos[1], x_pos[-1]])\n",
    "plt.tick_params(axis='x', labelrotation=60)\n",
    "\n",
    "for d, l in labels[\"label\"].items():\n",
    "    plt.axvspan(d, d + timedelta(days=1),\n",
    "                alpha=0.3, color=cluster_colors[l])\n",
    "\n",
    "plt.show()\n",
    "plt.savefig(FIXATION_LABEL_PLOT, bbox_inches=\"tight\")\n",
    "plt.close()\n"
   ]
  },
  {
   "cell_type": "code",
   "execution_count": 9,
   "metadata": {},
   "outputs": [],
   "source": [
    "mut_reader.stop_codon_filter()\n",
    "mut_reader.insertion_filter()\n",
    "df: pd.DataFrame = mut_reader.get_data()\n",
    "wt: pd.DataFrame = mut_reader.get_wt()\n"
   ]
  },
  {
   "cell_type": "code",
   "execution_count": 10,
   "metadata": {},
   "outputs": [],
   "source": [
    "# All unique unmutated sites (reference sequence) for all mutated sits\n",
    "pos_info = df[[\"Protein\", \"From\", \"Pos\"]]\n",
    "pos_info = pos_info.drop_duplicates()\n",
    "pos_info = pos_info.rename(columns={\"From\": \"To\"})\n",
    "pos_info = pos_info.sort_values([\"Protein\", \"Pos\"]).reset_index(drop=True)\n",
    "logging.info(f\"{len(pos_info)} mutated pos\")\n"
   ]
  },
  {
   "cell_type": "code",
   "execution_count": 11,
   "metadata": {},
   "outputs": [],
   "source": [
    "# Get mutations for each ac and unique sequences (mutated and unmutated sites)\n",
    "manager: managers.SyncManager\n",
    "with Manager() as manager:\n",
    "    all_aa_combo = manager.dict()\n",
    "    logging.info(\"Start multi-processing\")\n",
    "    with Pool(cpu_count()) as p:\n",
    "        # 'all_aa_combo' is the amino acid per site combination\n",
    "        all_mut_sets = p.starmap(\n",
    "            func=aa_per_seq,\n",
    "            iterable=((*i, pos_info, all_aa_combo)\n",
    "                      for i in df.groupby(\"Accession\", sort=False))\n",
    "        )\n",
    "        logging.info(f\"{len(all_aa_combo)} mutation combination\")\n",
    "        all_mut_sets = pd.DataFrame.from_records(all_mut_sets)\n",
    "\n",
    "    all_aa_combo: pd.DataFrame = pd.concat(list(all_aa_combo.values()))\n",
    "    all_aa_combo = all_aa_combo.reset_index(drop=True)\n",
    "    all_aa_combo[\"Site_AA\"] = all_aa_combo[\"Protein\"] + \"_\" + \\\n",
    "        all_aa_combo[\"Pos\"].astype(str) + all_aa_combo[\"To\"]\n",
    "    logging.info(f\"{len(all_aa_combo)} data points\")\n"
   ]
  },
  {
   "cell_type": "code",
   "execution_count": 12,
   "metadata": {},
   "outputs": [],
   "source": [
    "wt_aa_combo = pos_info.copy(deep=True)\n",
    "wt_aa_combo[\"Mut_set\"] = \"\"\n",
    "wt_aa_combo[\"Site_AA\"] = wt_aa_combo[\"Protein\"] + \"_\" + \\\n",
    "    wt_aa_combo[\"Pos\"].astype(\"str\") + wt_aa_combo[\"To\"]\n"
   ]
  },
  {
   "cell_type": "code",
   "execution_count": 13,
   "metadata": {},
   "outputs": [],
   "source": [
    "wt_mut_sets = wt.copy(deep=True)\n",
    "wt_mut_sets[\"Mut_set\"] = \"\"\n",
    "wt_mut_sets = wt_mut_sets.drop(\"Area\", axis=1)\n"
   ]
  },
  {
   "cell_type": "code",
   "execution_count": 14,
   "metadata": {},
   "outputs": [],
   "source": [
    "pd.concat(\n",
    "    [wt_mut_sets, all_mut_sets],\n",
    "    axis=0,\n",
    "    ignore_index=True\n",
    ").to_csv(ALL_MUT_SETS_FILE, index=False)\n",
    "logging.info(f\"{ALL_MUT_SETS_FILE} saved!\")\n",
    "\n",
    "pd.concat(\n",
    "    [wt_aa_combo, all_aa_combo],\n",
    "    axis=0,\n",
    "    ignore_index=True\n",
    ").to_csv(ALL_AA_COMBO_FILE, index=False)\n",
    "logging.info(f\"{ALL_AA_COMBO_FILE} saved!\")\n"
   ]
  }
 ],
 "metadata": {
  "interpreter": {
   "hash": "daa14faf8439db85a4a7a42dc4255e6aa0c12b95e893d9ba9ee5705e6b12479d"
  },
  "kernelspec": {
   "display_name": "Python 3.9.7 ('fixynergy')",
   "language": "python",
   "name": "python3"
  },
  "language_info": {
   "codemirror_mode": {
    "name": "ipython",
    "version": 3
   },
   "file_extension": ".py",
   "mimetype": "text/x-python",
   "name": "python",
   "nbconvert_exporter": "python",
   "pygments_lexer": "ipython3",
   "version": "3.9.7"
  },
  "orig_nbformat": 4
 },
 "nbformat": 4,
 "nbformat_minor": 2
}
