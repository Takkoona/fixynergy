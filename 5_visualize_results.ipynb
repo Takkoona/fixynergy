{
 "cells": [
  {
   "cell_type": "code",
   "execution_count": 1,
   "metadata": {},
   "outputs": [],
   "source": [
    "# Uncomment and run to reload libs\n",
    "# import importlib\n",
    "# import utils\n",
    "# importlib.reload(utils)\n",
    "# import utils.modelling\n",
    "# importlib.reload(utils.modelling)\n",
    "# import utils.reader\n",
    "# importlib.reload(utils.reader)\n",
    "\n",
    "\n",
    "import json\n",
    "import gc\n",
    "\n",
    "import numpy as np\n",
    "import pandas as pd\n",
    "\n",
    "from utils import (\n",
    "    logging,\n",
    "    DUMMY_SEQ_NAMES_FILE,\n",
    "    MUTATION_SCORES_FILE,\n",
    "    RECOMMENDED_MUTATIONS_FILE,\n",
    ")\n"
   ]
  },
  {
   "cell_type": "code",
   "execution_count": 2,
   "metadata": {},
   "outputs": [],
   "source": [
    "# Prediction from the model\n",
    "mutation_scores: pd.DataFrame = pd.read_feather(MUTATION_SCORES_FILE)\n",
    "\n",
    "# The added dummy sequences\n",
    "with open(DUMMY_SEQ_NAMES_FILE) as f:\n",
    "    dummy_seq_names = json.load(f)\n"
   ]
  },
  {
   "cell_type": "code",
   "execution_count": 3,
   "metadata": {},
   "outputs": [],
   "source": [
    "pred_scores = mutation_scores.loc[mutation_scores[\"Accession\"].isin(\n",
    "    dummy_seq_names)]\n",
    "pred_scores = pred_scores.melt(id_vars=[\"Accession\", \"Protein\", \"Pos\"])\n",
    "logging.info(\"Score matrix melted\")\n"
   ]
  },
  {
   "cell_type": "code",
   "execution_count": 4,
   "metadata": {},
   "outputs": [],
   "source": [
    "dummy_seq_name_split = pred_scores[\"Accession\"].str.split(\"_\").str\n",
    "pred_scores[\"Ref_protein\"] = dummy_seq_name_split[0]\n",
    "pred_scores[\"Ref_pos\"] = dummy_seq_name_split[1].str.extract(\n",
    "    r\"(\\d+)\").astype(int)\n",
    "pred_scores = pred_scores[~((pred_scores[\"Pos\"] == pred_scores[\"Ref_pos\"]) &\n",
    "                            (pred_scores[\"Protein\"] == pred_scores[\"Ref_protein\"]))]\n",
    "logging.info(\"Known mut rows removed\")\n",
    "# del dummy_seq_name_split, pred_scores[\"Ref_protein\"], pred_scores[\"Ref_pos\"]\n",
    "# logging.info(\"Delete to release memory (hopefully)\")\n"
   ]
  },
  {
   "cell_type": "code",
   "execution_count": 5,
   "metadata": {},
   "outputs": [
    {
     "data": {
      "text/plain": [
       "60"
      ]
     },
     "execution_count": 5,
     "metadata": {},
     "output_type": "execute_result"
    }
   ],
   "source": [
    "pred_scores[\"Mut\"] = pred_scores[\"Protein\"] + \"_\" + \\\n",
    "    pred_scores[\"Pos\"].astype(str) + pred_scores[\"variable\"]\n",
    "\n",
    "pred_scores[\"Ref_pos_greater\"] = ((pred_scores[\"Protein\"] == pred_scores[\"Ref_protein\"]) &\n",
    "                                  (pred_scores[\"Ref_pos\"] > pred_scores[\"Pos\"]))\n",
    "del (pred_scores[\"Protein\"], pred_scores[\"Pos\"], pred_scores[\"Ref_protein\"],\n",
    "     pred_scores[\"Ref_pos\"], pred_scores[\"variable\"])\n",
    "gc.collect()\n"
   ]
  },
  {
   "cell_type": "code",
   "execution_count": 6,
   "metadata": {},
   "outputs": [
    {
     "data": {
      "text/plain": [
       "0"
      ]
     },
     "execution_count": 6,
     "metadata": {},
     "output_type": "execute_result"
    }
   ],
   "source": [
    "pred_scores[\"Accession\"], pred_scores[\"Mut\"] = np.where(\n",
    "    pred_scores[\"Ref_pos_greater\"],\n",
    "    [pred_scores[\"Mut\"], pred_scores[\"Accession\"]],\n",
    "    [pred_scores[\"Accession\"], pred_scores[\"Mut\"]],\n",
    ")\n",
    "logging.info(\"Mutation pair per row sorted by pos\")\n",
    "del pred_scores[\"Ref_pos_greater\"]\n",
    "\n",
    "gc.collect()\n"
   ]
  },
  {
   "cell_type": "code",
   "execution_count": 7,
   "metadata": {},
   "outputs": [],
   "source": [
    "pred_scores.to_csv(RECOMMENDED_MUTATIONS_FILE, index=False)\n",
    "logging.info(f\"{RECOMMENDED_MUTATIONS_FILE} saved!\")\n"
   ]
  }
 ],
 "metadata": {
  "interpreter": {
   "hash": "daa14faf8439db85a4a7a42dc4255e6aa0c12b95e893d9ba9ee5705e6b12479d"
  },
  "kernelspec": {
   "display_name": "Python 3.9.7 64-bit ('fixynergy': conda)",
   "language": "python",
   "name": "python3"
  },
  "language_info": {
   "codemirror_mode": {
    "name": "ipython",
    "version": 3
   },
   "file_extension": ".py",
   "mimetype": "text/x-python",
   "name": "python",
   "nbconvert_exporter": "python",
   "pygments_lexer": "ipython3",
   "version": "3.9.7"
  },
  "orig_nbformat": 4
 },
 "nbformat": 4,
 "nbformat_minor": 2
}
