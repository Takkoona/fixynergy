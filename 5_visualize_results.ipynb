{
 "cells": [
  {
   "cell_type": "code",
   "execution_count": 1,
   "metadata": {},
   "outputs": [],
   "source": [
    "import os\n",
    "import json\n",
    "from multiprocessing import Pool\n",
    "\n",
    "import pandas as pd\n",
    "from scipy.stats import entropy\n",
    "from matplotlib import pyplot as plt\n",
    "\n",
    "from utils import (\n",
    "    logging,\n",
    "    TRAINING_DATA_FILE,\n",
    "    DUMMY_SEQ_NAMES_FILE,\n",
    "    MUTATION_SCORES_FILE,\n",
    ")\n",
    "from utils.miscellaneous import calculate_pred_AA\n"
   ]
  },
  {
   "cell_type": "code",
   "execution_count": 2,
   "metadata": {},
   "outputs": [],
   "source": [
    "logging.info(\"Load data..\")\n",
    "\n",
    "seq_mut: pd.DataFrame = pd.read_feather(TRAINING_DATA_FILE)\n",
    "mutation_scores: pd.DataFrame = pd.read_feather(MUTATION_SCORES_FILE)\n",
    "\n",
    "with open(DUMMY_SEQ_NAMES_FILE) as f:\n",
    "    dummy_seq_names = json.load(f)\n"
   ]
  },
  {
   "cell_type": "code",
   "execution_count": 3,
   "metadata": {},
   "outputs": [],
   "source": [
    "true_AA = seq_mut.loc[~seq_mut[\"Accession\"].isin(dummy_seq_names)]\n",
    "true_AA = true_AA[[\"Accession\", \"Pos\", \"AA\"]]\n",
    "true_AA = true_AA.sort_values([\"Accession\", \"Pos\"])\n",
    "true_AA = true_AA.reset_index(drop=True)"
   ]
  },
  {
   "cell_type": "code",
   "execution_count": 5,
   "metadata": {},
   "outputs": [
    {
     "data": {
      "image/png": "[encoded data removed]",
      "text/plain": [
       "<Figure size 432x288 with 1 Axes>"
      ]
     },
     "metadata": {
      "needs_background": "light"
     },
     "output_type": "display_data"
    }
   ],
   "source": [
    "pos_group: pd.DataFrame\n",
    "\n",
    "pos_entropy = [{\"Pos\": pos, \"Entropy\": entropy(pos_group[\"AA\"].value_counts())}\n",
    "               for pos, pos_group in true_AA.groupby(\"Pos\")]\n",
    "pos_entropy = pd.DataFrame.from_records(pos_entropy)\n",
    "\n",
    "plt.bar(pos_entropy[\"Pos\"], pos_entropy[\"Entropy\"])\n",
    "plt.savefig(\"plots/pos_entropy.pdf\")\n"
   ]
  },
  {
   "cell_type": "code",
   "execution_count": 6,
   "metadata": {},
   "outputs": [],
   "source": [
    "aa_table = seq_mut[[\"AA\", \"AA_idx\"]].drop_duplicates()\n",
    "aa_table = aa_table.set_index(\"AA_idx\").sort_index()\n",
    "aa_table = aa_table[\"AA\"]\n",
    "\n",
    "pred_scores = mutation_scores.loc[~mutation_scores[\"Accession\"].isin(\n",
    "    dummy_seq_names)]\n"
   ]
  },
  {
   "cell_type": "code",
   "execution_count": 7,
   "metadata": {},
   "outputs": [],
   "source": [
    "with Pool(os.cpu_count()) as p:\n",
    "    pred_AA = p.starmap(\n",
    "        func=calculate_pred_AA,\n",
    "        iterable=((ac, ac_group, aa_table, true_AA[true_AA[\"Accession\"] == ac].set_index(\"Pos\"))\n",
    "                  for ac, ac_group in pred_scores.groupby(\"Accession\", sort=False))\n",
    "    )\n",
    "    pred_AA = pd.concat(pred_AA)\n",
    "    pred_AA = pred_AA.sort_values([\"Accession\", \"Pos\"])\n",
    "    pred_AA = pred_AA.reset_index(drop=True)\n"
   ]
  },
  {
   "cell_type": "code",
   "execution_count": 9,
   "metadata": {},
   "outputs": [
    {
     "data": {
      "image/png": "[encoded data removed]",
      "text/plain": [
       "<Figure size 432x288 with 1 Axes>"
      ]
     },
     "metadata": {
      "needs_background": "light"
     },
     "output_type": "display_data"
    }
   ],
   "source": [
    "plt.imshow(\n",
    "    pred_AA.pivot_table(index=\"Accession\", columns=\"Pos\",\n",
    "                        values=\"AA\", sort=False),\n",
    ")\n",
    "plt.savefig(\"plots/correct_AA_heatmap.pdf\", bbox_inches=\"tight\")"
   ]
  },
  {
   "cell_type": "code",
   "execution_count": 10,
   "metadata": {},
   "outputs": [
    {
     "data": {
      "image/png": "[encoded data removed]",
      "text/plain": [
       "<Figure size 432x288 with 1 Axes>"
      ]
     },
     "metadata": {
      "needs_background": "light"
     },
     "output_type": "display_data"
    }
   ],
   "source": [
    "n_seq = pred_scores[\"Accession\"].nunique()\n",
    "\n",
    "correct_AA = [{\"Pos\": pos, \"Freq\": sum(pos_group[\"AA\"]) / n_seq}\n",
    "              for pos, pos_group in pred_AA.groupby(\"Pos\")]\n",
    "correct_AA = pd.DataFrame.from_records(correct_AA)\n",
    "\n",
    "plt.bar(correct_AA[\"Pos\"], correct_AA[\"Freq\"])\n",
    "plt.savefig(\"plots/correct_AA_freq.pdf\")"
   ]
  },
  {
   "cell_type": "code",
   "execution_count": 12,
   "metadata": {},
   "outputs": [
    {
     "data": {
      "text/plain": [
       "0.995758034026465"
      ]
     },
     "execution_count": 12,
     "metadata": {},
     "output_type": "execute_result"
    }
   ],
   "source": [
    "sum(pred_AA[\"AA\"]) / len(pred_AA.index)"
   ]
  }
 ],
 "metadata": {
  "interpreter": {
   "hash": "daa14faf8439db85a4a7a42dc4255e6aa0c12b95e893d9ba9ee5705e6b12479d"
  },
  "kernelspec": {
   "display_name": "Python 3.9.7 64-bit ('fixynergy': conda)",
   "language": "python",
   "name": "python3"
  },
  "language_info": {
   "codemirror_mode": {
    "name": "ipython",
    "version": 3
   },
   "file_extension": ".py",
   "mimetype": "text/x-python",
   "name": "python",
   "nbconvert_exporter": "python",
   "pygments_lexer": "ipython3",
   "version": "3.9.7"
  },
  "orig_nbformat": 4
 },
 "nbformat": 4,
 "nbformat_minor": 2
}
