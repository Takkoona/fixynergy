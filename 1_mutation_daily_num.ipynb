{
 "cells": [
  {
   "cell_type": "code",
   "execution_count": 1,
   "metadata": {},
   "outputs": [],
   "source": [
    "# Uncomment and run to reload libs\n",
    "# import importlib, pyutils; importlib.reload(pyutils)\n",
    "\n",
    "import pandas as pd\n",
    "\n",
    "from pyutils import (\n",
    "    logging,\n",
    "    ORIGIN_DATE,\n",
    "    SURVEILLANCE_FILE,\n",
    "    WILD_TYPE_SEQ_FILE,\n",
    "    MUTATION_PER_SEQ_FILE,\n",
    "    SUS_MUTATION_PER_SEQ_FILE,\n",
    ")\n"
   ]
  },
  {
   "cell_type": "code",
   "execution_count": 2,
   "metadata": {},
   "outputs": [],
   "source": [
    "logging.info(\"Load variant surveilance\")\n",
    "\n",
    "df: pd.DataFrame = pd.read_csv(\n",
    "    SURVEILLANCE_FILE,\n",
    "    sep=\"\\t\",\n",
    "    low_memory=False,\n",
    "    index_col=0,\n",
    ")\n",
    "logging.info(f\"{len(df.index)} in raw data\")\n",
    "\n",
    "df = df[df[\"Collection date\"].str.len() == 10]\n",
    "logging.info(f\"{len(df.index)} has complete date\")\n",
    "\n",
    "df[\"Collection date\"] = pd.to_datetime(df[\"Collection date\"])\n",
    "df = df[df[\"Collection date\"] > ORIGIN_DATE]\n",
    "logging.info(f\"{len(df.index)} after {ORIGIN_DATE}\")\n",
    "\n",
    "df = df[df[\"Host\"] == \"Human\"]\n",
    "logging.info(f\"{len(df.index)} using human host\")\n",
    "\n",
    "df[\"Continent\"] = df[\"Location\"].str.split(\" / \").str[0]\n",
    "df[\"Area\"] = df[\"Location\"].str.split(\" /\").str[1].str.strip()\n",
    "df[\"Region\"] = df[\"Location\"].str.split(\" /\").str[2].str.strip()\n"
   ]
  },
  {
   "cell_type": "code",
   "execution_count": 3,
   "metadata": {},
   "outputs": [],
   "source": [
    "logging.info(\"Get all possible mutations...\")\n",
    "seqs_mutations = []\n",
    "seqs_wt = []\n",
    "c_date: pd.Timestamp\n",
    "c_date_group: pd.DataFrame\n",
    "area: str\n",
    "area_group: pd.DataFrame\n",
    "for c_date, c_date_group in df.groupby(\"Collection date\", sort=False):\n",
    "    c_date_str = c_date.strftime(\"%Y-%m-%d\")\n",
    "    logging.info(f\"{c_date_str}\")\n",
    "    for area, area_group in c_date_group.groupby(\"Area\", sort=False):\n",
    "        for ac, mut, pango, region in area_group[[\n",
    "            \"AA Substitutions\",\n",
    "            \"Pango lineage\",\n",
    "            \"Region\"\n",
    "        ]].itertuples():\n",
    "            if not pd.isna(mut) and mut != \"\":\n",
    "                mut: str = mut[1:-1]\n",
    "                if mut:\n",
    "                    mut_list = mut.split(\",\")\n",
    "                else:\n",
    "                    mut_list = ()\n",
    "                    seqs_wt.append({\n",
    "                        \"Accession\": ac,\n",
    "                        \"Date\": c_date,\n",
    "                        \"Lineage\": pango,\n",
    "                        \"Area\": area,\n",
    "                    })\n",
    "                    # The sequence is known to have no mutation\n",
    "            else:\n",
    "                # The mutation of the sequence is unknown?\n",
    "                mut_list = ()\n",
    "            for m in mut_list:\n",
    "                if m:\n",
    "                    seqs_mutations.append({\n",
    "                        \"Accession\": ac,\n",
    "                        \"Date\": c_date_str,\n",
    "                        \"Mutation\": m,\n",
    "                        \"Lineage\": pango,\n",
    "                        \"Area\": area,\n",
    "                    })\n",
    "\n",
    "seqs_wt: pd.DataFrame = pd.DataFrame.from_records(seqs_wt)\n",
    "seqs_mutations: pd.DataFrame = pd.DataFrame.from_records(seqs_mutations)\n",
    "logging.info(f\"{seqs_mutations['Mutation'].nunique()} unique mutations\")\n"
   ]
  },
  {
   "cell_type": "code",
   "execution_count": 4,
   "metadata": {},
   "outputs": [],
   "source": [
    "seqs_wt.to_csv(WILD_TYPE_SEQ_FILE, index=False)\n",
    "logging.info(f\"{WILD_TYPE_SEQ_FILE} saved!\")\n"
   ]
  },
  {
   "cell_type": "code",
   "execution_count": 5,
   "metadata": {},
   "outputs": [],
   "source": [
    "# Extract all unique mutations\n",
    "mut_info = pd.DataFrame(\n",
    "    seqs_mutations[\"Mutation\"].unique(), columns=[\"Mutation\"])\n",
    "# Separate protein name and mutation name\n",
    "mut_info_split = mut_info[\"Mutation\"].str.split(\"_\").str\n",
    "protein_name: pd.Series = mut_info_split[0]\n",
    "mut_name: pd.Series = mut_info_split[1]\n",
    "\n",
    "# Some mutation names are invalid such as \"NSP2_\" in \"EPI_ISL_3922842\"\n",
    "invalid_mut = mut_name == \"\"\n",
    "mut_info = mut_info[~invalid_mut]\n",
    "\n",
    "# Assign protein names\n",
    "protein_name = protein_name[~invalid_mut]\n",
    "mut_info[\"Protein\"] = protein_name\n",
    "\n",
    "# Separate mutation into unmutated state, pos, and mutated state\n",
    "mut_name = mut_name[~invalid_mut]\n",
    "mut_aa: pd.DataFrame = mut_name.str.split(\"([A-Z]|ins)(\\d+)(\\w+)\", expand=True)\n",
    "# Assign the separated mutation info\n",
    "mut_info[\"From\"] = mut_aa[1]\n",
    "mut_info[\"Pos\"] = mut_aa[2].astype(int)\n",
    "mut_info[\"To\"] = mut_aa[3]\n",
    "\n",
    "# Make sure the string split was done correct\n",
    "assert all(mut_info[\"Protein\"] + \"_\" + mut_info[\"From\"] +\n",
    "           mut_info[\"Pos\"].astype(str) + mut_info[\"To\"] == mut_info[\"Mutation\"])\n",
    "logging.info(f\"{len(mut_info.index)} unique valid mutations\")\n"
   ]
  },
  {
   "cell_type": "code",
   "execution_count": 6,
   "metadata": {},
   "outputs": [],
   "source": [
    "# Remove a mutation when \n",
    "sus_mut_removed = []\n",
    "sus_mut = []\n",
    "all_mut_summary = {}\n",
    "pos_group: pd.DataFrame\n",
    "for (protein_name, pos), pos_group in mut_info.groupby([\"Protein\", \"Pos\"], sort=False):\n",
    "    # Unmutated state of all types of mutation\n",
    "    mut_summary = pos_group[\"From\"].value_counts()\n",
    "    all_mut_summary[f\"{protein_name}_{pos}\"] = mut_summary\n",
    "    if \"ins\" in mut_summary.index:\n",
    "        unmutated = \"ins\"\n",
    "        if len(mut_summary.index) > 1:\n",
    "            unmutated = mut_summary.drop(\"ins\").idxmax()\n",
    "        non_sus = (pos_group[\"From\"] == unmutated) | (pos_group[\"From\"] == \"ins\")\n",
    "    else:\n",
    "        unmutated = mut_summary.idxmax()\n",
    "        non_sus = (pos_group[\"From\"] == unmutated)\n",
    "    sus_mut_removed.append(pos_group[non_sus])\n",
    "    sus_mut.append(pos_group[~non_sus])\n",
    "\n",
    "sus_mut_removed: pd.DataFrame = pd.concat(sus_mut_removed)\n",
    "logging.info(f\"{len(sus_mut_removed.index)} unique mutations not sus\")\n",
    "sus_mut: pd.DataFrame = pd.concat(sus_mut)\n"
   ]
  },
  {
   "cell_type": "code",
   "execution_count": 7,
   "metadata": {},
   "outputs": [],
   "source": [
    "pd.merge(\n",
    "    seqs_mutations,\n",
    "    sus_mut,\n",
    "    on=\"Mutation\"\n",
    ").to_csv(SUS_MUTATION_PER_SEQ_FILE, index=False)\n",
    "logging.info(f\"{SUS_MUTATION_PER_SEQ_FILE} saved!\")\n"
   ]
  },
  {
   "cell_type": "code",
   "execution_count": 8,
   "metadata": {},
   "outputs": [],
   "source": [
    "pd.merge(\n",
    "    seqs_mutations,\n",
    "    sus_mut_removed,\n",
    "    on=\"Mutation\"\n",
    ").to_csv(MUTATION_PER_SEQ_FILE, index=False)\n",
    "logging.info(f\"{MUTATION_PER_SEQ_FILE} saved!\")\n"
   ]
  }
 ],
 "metadata": {
  "interpreter": {
   "hash": "daa14faf8439db85a4a7a42dc4255e6aa0c12b95e893d9ba9ee5705e6b12479d"
  },
  "kernelspec": {
   "display_name": "Python 3.9.7 ('fixynergy')",
   "language": "python",
   "name": "python3"
  },
  "language_info": {
   "codemirror_mode": {
    "name": "ipython",
    "version": 3
   },
   "file_extension": ".py",
   "mimetype": "text/x-python",
   "name": "python",
   "nbconvert_exporter": "python",
   "pygments_lexer": "ipython3",
   "version": "3.9.7"
  },
  "orig_nbformat": 4
 },
 "nbformat": 4,
 "nbformat_minor": 2
}
