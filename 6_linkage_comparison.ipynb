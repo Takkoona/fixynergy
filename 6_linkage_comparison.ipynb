{
 "cells": [
  {
   "cell_type": "code",
   "execution_count": 13,
   "metadata": {},
   "outputs": [],
   "source": [
    "# Uncomment and run to reload libs\n",
    "# import importlib\n",
    "# import utils\n",
    "# importlib.reload(utils)\n",
    "# import utils.miscellaneous\n",
    "# importlib.reload(utils.miscellaneous)\n",
    "\n",
    "\n",
    "from itertools import combinations\n",
    "\n",
    "import pandas as pd\n",
    "\n",
    "from utils import (\n",
    "    logging,\n",
    "    COMBO_MIN_NUM,\n",
    "    RECOMMENDED_MUTATIONS_FILE,\n",
    "    FUTURE_COMBO_FILE,\n",
    ")\n",
    "from utils.reader import AminoAcidComboReader\n"
   ]
  },
  {
   "cell_type": "code",
   "execution_count": 2,
   "metadata": {},
   "outputs": [],
   "source": [
    "pred_scores = pd.read_csv(RECOMMENDED_MUTATIONS_FILE)\n",
    "\n",
    "aa_combo_reader: AminoAcidComboReader = AminoAcidComboReader()\n",
    "training_data = aa_combo_reader.before_date_data()\n",
    "test_data = aa_combo_reader.after_date_data()\n"
   ]
  },
  {
   "cell_type": "code",
   "execution_count": 3,
   "metadata": {},
   "outputs": [
    {
     "data": {
      "text/plain": [
       "3046222"
      ]
     },
     "execution_count": 3,
     "metadata": {},
     "output_type": "execute_result"
    }
   ],
   "source": [
    "existing_combo = set()\n",
    "\n",
    "ac_group: pd.DataFrame\n",
    "for ac, ac_group in training_data.groupby(\"Accession\", sort=False):\n",
    "    for i in combinations(ac_group[\"AA\"].values, COMBO_MIN_NUM):\n",
    "        existing_combo.add(frozenset(i))\n",
    "        # break\n",
    "\n",
    "len(existing_combo)\n"
   ]
  },
  {
   "cell_type": "code",
   "execution_count": 4,
   "metadata": {},
   "outputs": [],
   "source": [
    "future_combo = {}\n",
    "existing_future_combo = set()\n",
    "ac_group: pd.DataFrame\n",
    "c_date_group: pd.DataFrame\n",
    "for c_date, c_date_group in test_data.groupby(\"Date\", sort=False):\n",
    "    logging.info(f\"Future date: {c_date}\")\n",
    "    c_date_combo = set()\n",
    "    for ac, ac_group in c_date_group.groupby(\"Accession\", sort=False):\n",
    "        for i in combinations(ac_group[\"AA\"].values, COMBO_MIN_NUM):\n",
    "            c_date_combo.add(frozenset(i))\n",
    "\n",
    "    # Remove combo in the training data\n",
    "    c_date_combo = c_date_combo.difference(existing_combo)\n",
    "    # Reomve combo in the previous dates\n",
    "    c_date_combo = c_date_combo.difference(existing_future_combo)\n",
    "\n",
    "    future_combo[c_date] = c_date_combo\n",
    "    existing_future_combo = existing_future_combo.union(c_date_combo)\n"
   ]
  },
  {
   "cell_type": "code",
   "execution_count": 16,
   "metadata": {},
   "outputs": [],
   "source": [
    "import pickle\n",
    "\n",
    "with open(FUTURE_COMBO_FILE, \"bw\") as f:\n",
    "    pickle.dump(future_combo, f)\n"
   ]
  }
 ],
 "metadata": {
  "interpreter": {
   "hash": "daa14faf8439db85a4a7a42dc4255e6aa0c12b95e893d9ba9ee5705e6b12479d"
  },
  "kernelspec": {
   "display_name": "Python 3.9.7 64-bit ('fixynergy': conda)",
   "language": "python",
   "name": "python3"
  },
  "language_info": {
   "codemirror_mode": {
    "name": "ipython",
    "version": 3
   },
   "file_extension": ".py",
   "mimetype": "text/x-python",
   "name": "python",
   "nbconvert_exporter": "python",
   "pygments_lexer": "ipython3",
   "version": "3.9.7"
  },
  "orig_nbformat": 4
 },
 "nbformat": 4,
 "nbformat_minor": 2
}
