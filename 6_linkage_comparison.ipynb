{
 "cells": [
  {
   "cell_type": "code",
   "execution_count": 1,
   "metadata": {},
   "outputs": [],
   "source": [
    "from itertools import combinations\n",
    "\n",
    "import pandas as pd\n",
    "import matplotlib.pyplot as plt\n",
    "from matplotlib_venn import venn2, venn3\n",
    "\n",
    "from utils import (\n",
    "    logging,\n",
    "    TARGET_PROTEIN,\n",
    "    SAMPLE_END_DATE,\n",
    "    MUTATION_PER_SEQ_FILE,\n",
    "    FIXATION_LINKAGE_FILE,\n",
    "    RECOMMENDED_MUTATIONS_FILE\n",
    ")\n",
    "\n",
    "combo_min_num = 2\n",
    "score_threshold = 0\n"
   ]
  },
  {
   "cell_type": "code",
   "execution_count": 2,
   "metadata": {},
   "outputs": [],
   "source": [
    "logging.info(\"Load data...\")\n",
    "\n",
    "df: pd.DataFrame = pd.read_feather(MUTATION_PER_SEQ_FILE)\n",
    "df[\"Date\"] = pd.to_datetime(df[\"Date\"])\n",
    "\n",
    "df = df[df[\"Mutation\"].str.contains(TARGET_PROTEIN)]\n",
    "df = df[~df[\"Mutation\"].str.contains(\"stop\")]\n",
    "df = df[~df[\"Mutation\"].str.contains(\"ins\")]\n",
    "df[\"AA\"] = df[\"Mutation\"].str.split(\"_\").str[1].str[1:]\n",
    "\n",
    "future_df = df[df[\"Date\"] >= SAMPLE_END_DATE]\n",
    "df = df[df[\"Date\"] < SAMPLE_END_DATE]\n",
    "\n",
    "fixation_linkage = pd.read_csv(FIXATION_LINKAGE_FILE)\n",
    "aa_combo: pd.DataFrame = pd.read_feather(RECOMMENDED_MUTATIONS_FILE)\n",
    "aa_combo = aa_combo[aa_combo[\"Accession\"].str.contains(TARGET_PROTEIN)]\n"
   ]
  },
  {
   "cell_type": "code",
   "execution_count": 3,
   "metadata": {},
   "outputs": [
    {
     "data": {
      "text/plain": [
       "4450636"
      ]
     },
     "execution_count": 3,
     "metadata": {},
     "output_type": "execute_result"
    }
   ],
   "source": [
    "known_muts = set(df[\"AA\"].unique())\n",
    "all_possible_mut_combo = set(\n",
    "    (frozenset(i) for i in combinations(known_muts, combo_min_num))\n",
    ")\n",
    "len(all_possible_mut_combo)\n"
   ]
  },
  {
   "cell_type": "code",
   "execution_count": 4,
   "metadata": {},
   "outputs": [
    {
     "data": {
      "text/plain": [
       "13978"
      ]
     },
     "execution_count": 4,
     "metadata": {},
     "output_type": "execute_result"
    }
   ],
   "source": [
    "existing_combo = []\n",
    "\n",
    "ac_group: pd.DataFrame\n",
    "for ac, ac_group in df.groupby(\"Accession\", sort=False):\n",
    "    if len(ac_group.index) >= combo_min_num:\n",
    "        existing_combo.extend(\n",
    "            (frozenset(i)\n",
    "             for i in combinations(ac_group[\"AA\"].values, combo_min_num))\n",
    "        )\n",
    "\n",
    "existing_combo = set(existing_combo)\n",
    "assert len(existing_combo.difference(all_possible_mut_combo)) == 0\n",
    "\n",
    "len(existing_combo)\n"
   ]
  },
  {
   "cell_type": "code",
   "execution_count": 5,
   "metadata": {},
   "outputs": [
    {
     "data": {
      "text/plain": [
       "3176462"
      ]
     },
     "execution_count": 5,
     "metadata": {},
     "output_type": "execute_result"
    }
   ],
   "source": [
    "recommended_combo = []\n",
    "\n",
    "mut_group: pd.DataFrame\n",
    "for mut, mut_group in aa_combo.groupby(\"Accession\", sort=False):\n",
    "    mut = mut.split(\"_\")[1][1:]\n",
    "    mut_group = mut_group[mut_group[\"Score\"] > score_threshold]\n",
    "    mutated = (mut_group[\"Pos\"].astype(str) + mut_group[\"AA\"]).values\n",
    "    recommended_combo.extend(\n",
    "        (frozenset((mut, i)) for i in mutated if i != mut)\n",
    "    )\n",
    "\n",
    "recommended_combo = set(recommended_combo).difference(existing_combo)\n",
    "len(recommended_combo)\n"
   ]
  },
  {
   "cell_type": "code",
   "execution_count": 6,
   "metadata": {},
   "outputs": [
    {
     "data": {
      "image/png": "[encoded data removed]",
      "text/plain": [
       "<Figure size 432x288 with 1 Axes>"
      ]
     },
     "metadata": {},
     "output_type": "display_data"
    }
   ],
   "source": [
    "venn2(\n",
    "    [all_possible_mut_combo, recommended_combo],\n",
    "    (\"All possible\", \"Recommended\")\n",
    ")\n",
    "plt.gca().set_facecolor('white')\n",
    "plt.gca().set_axis_on()\n",
    "plt.savefig(\"plots/venn_graph.pdf\", bbox_inches=\"tight\")"
   ]
  },
  {
   "cell_type": "code",
   "execution_count": 7,
   "metadata": {},
   "outputs": [
    {
     "data": {
      "text/plain": [
       "32"
      ]
     },
     "execution_count": 7,
     "metadata": {},
     "output_type": "execute_result"
    }
   ],
   "source": [
    "fixation_combo = []\n",
    "\n",
    "fix_group: pd.DataFrame\n",
    "for fix, fix_group in fixation_linkage.groupby(\"label\", sort=False):\n",
    "    muts = set(m.split(\"_\")[1][1:] for m in fix.split(\",\"))\n",
    "    muts = muts.intersection(known_muts)\n",
    "    if len(muts) >= combo_min_num:\n",
    "        fixation_combo.extend(\n",
    "            (frozenset(i) for i in combinations(muts, combo_min_num))\n",
    "        )\n",
    "\n",
    "fixation_combo = set(fixation_combo).difference(existing_combo)\n",
    "assert len(fixation_combo.difference(all_possible_mut_combo)) == 0\n",
    "\n",
    "len(fixation_combo)\n"
   ]
  },
  {
   "cell_type": "code",
   "execution_count": 8,
   "metadata": {},
   "outputs": [
    {
     "data": {
      "text/plain": [
       "8"
      ]
     },
     "execution_count": 8,
     "metadata": {},
     "output_type": "execute_result"
    }
   ],
   "source": [
    "len(recommended_combo.intersection(fixation_combo))"
   ]
  },
  {
   "cell_type": "code",
   "execution_count": 9,
   "metadata": {},
   "outputs": [
    {
     "data": {
      "text/plain": [
       "24"
      ]
     },
     "execution_count": 9,
     "metadata": {},
     "output_type": "execute_result"
    }
   ],
   "source": [
    "len(fixation_combo.difference(recommended_combo))"
   ]
  },
  {
   "cell_type": "code",
   "execution_count": null,
   "metadata": {},
   "outputs": [],
   "source": [
    "# future_combo = []\n",
    "\n",
    "# ac_group: pd.DataFrame\n",
    "# for ac, ac_group in future_df.groupby(\"Accession\", sort=False):\n",
    "#     if len(ac_group.index) >= combo_min_num:\n",
    "#         future_combo.extend(\n",
    "#             (frozenset(i)\n",
    "#              for i in combinations(ac_group[\"AA\"].values, combo_min_num))\n",
    "#         )\n",
    "\n",
    "# future_combo = set(future_combo).difference(existing_combo)\n",
    "# assert len(future_combo.difference(all_possible_mut_combo)) == 0\n",
    "\n",
    "# len(future_combo)\n"
   ]
  },
  {
   "cell_type": "code",
   "execution_count": null,
   "metadata": {},
   "outputs": [],
   "source": [
    "# len(recommended_combo.intersection(future_combo))"
   ]
  },
  {
   "cell_type": "code",
   "execution_count": null,
   "metadata": {},
   "outputs": [],
   "source": [
    "# len(future_combo.difference(recommended_combo))"
   ]
  }
 ],
 "metadata": {
  "interpreter": {
   "hash": "daa14faf8439db85a4a7a42dc4255e6aa0c12b95e893d9ba9ee5705e6b12479d"
  },
  "kernelspec": {
   "display_name": "Python 3.9.7 64-bit ('fixynergy': conda)",
   "language": "python",
   "name": "python3"
  },
  "language_info": {
   "codemirror_mode": {
    "name": "ipython",
    "version": 3
   },
   "file_extension": ".py",
   "mimetype": "text/x-python",
   "name": "python",
   "nbconvert_exporter": "python",
   "pygments_lexer": "ipython3",
   "version": "3.9.7"
  },
  "orig_nbformat": 4
 },
 "nbformat": 4,
 "nbformat_minor": 2
}
