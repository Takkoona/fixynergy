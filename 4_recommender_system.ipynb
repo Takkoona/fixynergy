{
 "cells": [
  {
   "cell_type": "code",
   "execution_count": 40,
   "metadata": {},
   "outputs": [],
   "source": [
    "# Uncomment and run to reload libs\n",
    "# import importlib, utils\n",
    "# importlib.reload(utils)\n",
    "# import importlib, utils.modelling\n",
    "# importlib.reload(utils.modelling)\n",
    "# import importlib, utils.reader\n",
    "# importlib.reload(utils.reader)\n",
    "# import importlib, utils.miscellaneous\n",
    "# importlib.reload(utils.miscellaneous)\n",
    "\n",
    "\n",
    "import json\n",
    "from multiprocessing import Pool, cpu_count\n",
    "\n",
    "import pandas as pd\n",
    "import torch\n",
    "from torch.utils.data import DataLoader\n",
    "from matplotlib import pyplot as plt\n",
    "\n",
    "from utils import (\n",
    "    logging,\n",
    "    DUMMY_SEQ_NAMES_FILE,\n",
    "    TRAINING_LOSSES_PLOT,\n",
    "    MUTATION_SCORES_FILE,\n",
    ")\n",
    "from utils.modelling import Fixynergy, MutationDataset, MutationRecommender\n",
    "from utils.reader import AminoAcidComboReader\n",
    "from utils.miscellaneous import extract_AA\n"
   ]
  },
  {
   "cell_type": "code",
   "execution_count": 2,
   "metadata": {},
   "outputs": [],
   "source": [
    "aa_combo_reader: AminoAcidComboReader = AminoAcidComboReader()\n",
    "seq_mut = aa_combo_reader.before_date_data()\n"
   ]
  },
  {
   "cell_type": "code",
   "execution_count": 3,
   "metadata": {},
   "outputs": [],
   "source": [
    "# Add 'Pos_id' for all sites\n",
    "all_pos: pd.DataFrame = seq_mut[[\"Protein\", \"Pos\"]].drop_duplicates()\n",
    "all_pos = all_pos.sort_values([\"Protein\", \"Pos\"])\n",
    "all_pos = all_pos.reset_index(drop=True)\n",
    "all_pos.index = all_pos.index.set_names(\"Pos_id\")\n",
    "all_pos = all_pos.reset_index()\n",
    "seq_mut = seq_mut.merge(all_pos, on=[\"Protein\", \"Pos\"])\n",
    "\n",
    "# Add 'Seq_id'\n",
    "seq_info = pd.DataFrame(\n",
    "    seq_mut[\"Accession\"].unique(),\n",
    "    columns=[\"Accession\"]\n",
    ")\n",
    "seq_info[\"Seq_id\"] = seq_info.index\n",
    "seq_mut = seq_mut.merge(seq_info, on=\"Accession\")\n",
    "logging.info(f\"{len(seq_mut.index)}\")\n"
   ]
  },
  {
   "cell_type": "code",
   "execution_count": 4,
   "metadata": {},
   "outputs": [
    {
     "data": {
      "text/html": [
       "<div>\n",
       "<style scoped>\n",
       "    .dataframe tbody tr th:only-of-type {\n",
       "        vertical-align: middle;\n",
       "    }\n",
       "\n",
       "    .dataframe tbody tr th {\n",
       "        vertical-align: top;\n",
       "    }\n",
       "\n",
       "    .dataframe thead th {\n",
       "        text-align: right;\n",
       "    }\n",
       "</style>\n",
       "<table border=\"1\" class=\"dataframe\">\n",
       "  <thead>\n",
       "    <tr style=\"text-align: right;\">\n",
       "      <th></th>\n",
       "      <th>Protein</th>\n",
       "      <th>To</th>\n",
       "      <th>Pos</th>\n",
       "      <th>Pos_id</th>\n",
       "      <th>Mutation</th>\n",
       "    </tr>\n",
       "  </thead>\n",
       "  <tbody>\n",
       "    <tr>\n",
       "      <th>3</th>\n",
       "      <td>Spike</td>\n",
       "      <td>G</td>\n",
       "      <td>614</td>\n",
       "      <td>584</td>\n",
       "      <td>Spike_614G</td>\n",
       "    </tr>\n",
       "    <tr>\n",
       "      <th>569503</th>\n",
       "      <td>Spike</td>\n",
       "      <td>D</td>\n",
       "      <td>614</td>\n",
       "      <td>584</td>\n",
       "      <td>Spike_614D</td>\n",
       "    </tr>\n",
       "  </tbody>\n",
       "</table>\n",
       "</div>"
      ],
      "text/plain": [
       "       Protein To  Pos  Pos_id    Mutation\n",
       "3        Spike  G  614     584  Spike_614G\n",
       "569503   Spike  D  614     584  Spike_614D"
      ]
     },
     "execution_count": 4,
     "metadata": {},
     "output_type": "execute_result"
    }
   ],
   "source": [
    "dummy_seqs = seq_mut[[\"Protein\", \"To\", \"Pos\", \"Pos_id\"]].drop_duplicates()\n",
    "dummy_seqs[\"Mutation\"] = dummy_seqs[\"Protein\"] + \"_\" + dummy_seqs[\"Pos\"].astype(str) + dummy_seqs[\"To\"]\n",
    "dummy_seq_names = list(dummy_seqs[\"Mutation\"].values)\n",
    "\n",
    "with open(DUMMY_SEQ_NAMES_FILE, \"w\") as f:\n",
    "    json.dump(dummy_seq_names, f)\n",
    "\n",
    "dummy_seqs[dummy_seqs[\"Pos\"] == 614]\n"
   ]
  },
  {
   "cell_type": "code",
   "execution_count": 5,
   "metadata": {},
   "outputs": [],
   "source": [
    "seq_mut = pd.concat([\n",
    "    seq_mut,\n",
    "    pd.DataFrame({\n",
    "        \"Accession\": dummy_seqs[\"Mutation\"].values,\n",
    "        \"Lineage\": \"None\",\n",
    "        \"Date\": seq_mut[\"Date\"].max(),\n",
    "        \"Seq_id\": dummy_seqs[\"Pos_id\"].values + len(seq_info[\"Seq_id\"]),\n",
    "        \"Protein\": dummy_seqs[\"Protein\"],\n",
    "        \"Pos\": dummy_seqs[\"Pos\"].values,\n",
    "        \"To\": dummy_seqs[\"To\"].values,\n",
    "        \"Pos_id\": dummy_seqs[\"Pos_id\"].values\n",
    "    })\n",
    "])\n",
    "logging.info(f\"{len(seq_mut)} after dummy added\")\n"
   ]
  },
  {
   "cell_type": "code",
   "execution_count": 6,
   "metadata": {},
   "outputs": [],
   "source": [
    "seq_mut = seq_mut.rename(columns={\"To\": \"AA_state\"})\n",
    "aa_table = seq_mut[\"AA_state\"].unique()\n",
    "aa_table.sort()\n",
    "aa_table = pd.Series(aa_table)\n",
    "aa_table.index.name = \"AA_idx\"\n",
    "aa_table = aa_table.reset_index(name=\"AA_state\")\n",
    "\n",
    "seq_mut = seq_mut.merge(aa_table, on=\"AA_state\")\n"
   ]
  },
  {
   "cell_type": "code",
   "execution_count": 7,
   "metadata": {},
   "outputs": [],
   "source": [
    "use_cuda = torch.cuda.is_available()\n",
    "# use_cuda = False\n",
    "device = torch.device(\"cuda:0\" if use_cuda else \"cpu\")\n",
    "logging.info(f\"Using device {device}\")\n",
    "\n",
    "n_factors = 10\n",
    "\n",
    "batch_size = 128\n",
    "shuffle = True\n",
    "learning_rate = 1e-4\n",
    "weight_decay = 1e-5\n",
    "n_epochs = 100\n"
   ]
  },
  {
   "cell_type": "code",
   "execution_count": 8,
   "metadata": {},
   "outputs": [],
   "source": [
    "training_data = MutationDataset(seq_mut)\n",
    "\n",
    "model = MutationRecommender(\n",
    "    n_seq=training_data.n_seq,\n",
    "    n_pos=training_data.n_pos,\n",
    "    n_factors=n_factors,\n",
    "    n_states=training_data.n_states\n",
    ")\n",
    "model.to(device)\n",
    "loss_fn = torch.nn.CrossEntropyLoss()\n",
    "optimizer = torch.optim.Adam(\n",
    "    model.parameters(),\n",
    "    lr=learning_rate,\n",
    "    weight_decay=weight_decay\n",
    ")\n"
   ]
  },
  {
   "cell_type": "code",
   "execution_count": 9,
   "metadata": {},
   "outputs": [
    {
     "data": {
      "image/png": "[encoded data removed]",
      "text/plain": [
       "<Figure size 432x288 with 1 Axes>"
      ]
     },
     "metadata": {
      "needs_background": "light"
     },
     "output_type": "display_data"
    }
   ],
   "source": [
    "logging.info(\"Balance value..\")\n",
    "training_data.fill_underrepresented()\n",
    "\n",
    "logging.info(\"Start training\")\n",
    "\n",
    "model.train()\n",
    "\n",
    "losses = []\n",
    "seq_ids: torch.Tensor\n",
    "pos_ids: torch.Tensor\n",
    "targets: torch.Tensor\n",
    "pred: torch.Tensor\n",
    "loss: torch.Tensor\n",
    "for epoch in range(n_epochs):\n",
    "    # training_data.balance_values()\n",
    "    for (seq_ids, pos_ids), targets in DataLoader(\n",
    "        training_data,\n",
    "        batch_size=batch_size,\n",
    "        shuffle=shuffle\n",
    "    ):\n",
    "        seq_ids = seq_ids.to(device)\n",
    "        pos_ids = pos_ids.to(device)\n",
    "\n",
    "        pred = model(seq_ids, pos_ids)\n",
    "        targets = targets.to(device)\n",
    "        # targets = targets.float().view(pred.size())\n",
    "        loss: torch.Tensor = loss_fn(pred, targets.float())\n",
    "\n",
    "        optimizer.zero_grad()\n",
    "        loss.backward()\n",
    "        optimizer.step()\n",
    "\n",
    "    logging.info(f\"{epoch + 1}/{n_epochs}, loss: {loss.item()}\")\n",
    "    losses.append({\n",
    "        \"epoch\": epoch,\n",
    "        \"loss\": loss.item()\n",
    "    })\n",
    "\n",
    "losses = pd.DataFrame.from_records(losses, index=\"epoch\")\n",
    "\n",
    "# plt.plot(losses[losses.index > n_epochs * 0.2][\"loss\"])\n",
    "plt.plot(losses[\"loss\"])\n",
    "plt.savefig(TRAINING_LOSSES_PLOT)\n",
    "logging.info(f\"{TRAINING_LOSSES_PLOT} saved!\")\n"
   ]
  },
  {
   "cell_type": "code",
   "execution_count": 11,
   "metadata": {},
   "outputs": [],
   "source": [
    "logging.info(\"AA score matrix\")\n",
    "\n",
    "model.eval()\n",
    "\n",
    "aa_mapping = dict(seq_mut[[\"AA_idx\", \"AA_state\"]].drop_duplicates().values)\n",
    "n_pos = len(training_data.pos_id2name)\n",
    "aa_scores = []\n",
    "with torch.no_grad():\n",
    "    for seq_id, seq_name, protein_name in training_data.seq_id2name.itertuples():\n",
    "        seq_ids = torch.Tensor(torch.Tensor([seq_id] * n_pos)).int().to(device)\n",
    "        pos_ids = torch.Tensor(training_data.pos_id2name.index).int().to(device)\n",
    "        pred: torch.Tensor = model(seq_ids, pos_ids)\n",
    "        scores = pd.DataFrame(pred.data.cpu().numpy())\n",
    "        scores = scores.rename(columns=aa_mapping)\n",
    "        scores[\"Pos\"] = training_data.pos_id2name[\"Pos\"]\n",
    "        scores[\"Accession\"] = seq_name\n",
    "        scores[\"Protein\"] = protein_name\n",
    "        aa_scores.append(scores)\n",
    "\n",
    "aa_scores: pd.DataFrame = pd.concat(aa_scores).reset_index(drop=True)\n",
    "aa_scores.to_feather(MUTATION_SCORES_FILE)\n",
    "logging.info(f\"{MUTATION_SCORES_FILE} saved!\")\n"
   ]
  },
  {
   "cell_type": "code",
   "execution_count": 41,
   "metadata": {},
   "outputs": [
    {
     "data": {
      "image/png": "[encoded data removed]",
      "text/plain": [
       "<Figure size 432x288 with 1 Axes>"
      ]
     },
     "metadata": {
      "needs_background": "light"
     },
     "output_type": "display_data"
    }
   ],
   "source": [
    "# The original amino acid per site per sequence\n",
    "true_AA = seq_mut.loc[~seq_mut[\"Accession\"].isin(dummy_seq_names)]\n",
    "true_AA = true_AA[[\"Accession\", \"Protein\", \"Pos\", \"AA_state\"]]\n",
    "true_AA = true_AA.sort_values([\"Accession\", \"Pos\"])\n",
    "true_AA = true_AA.reset_index(drop=True)\n",
    "\n",
    "# Predicted amino acid scores per site per original sequence\n",
    "pred_scores_original = aa_scores.loc[~aa_scores[\"Accession\"].isin(\n",
    "    dummy_seq_names)]\n",
    "# One-hot encode of all amino acid\n",
    "aa_names = list(aa_mapping.values())\n",
    "# Convert scores to amino acid using one-hot encode\n",
    "with Pool(cpu_count()) as p:\n",
    "    pred_AA = p.starmap(\n",
    "        func=extract_AA,\n",
    "        iterable=((ac, ac_group, aa_names)\n",
    "                  for ac, ac_group in pred_scores_original.groupby(\"Accession\", sort=False))\n",
    "    )\n",
    "    pred_AA = pd.concat(pred_AA)\n",
    "    pred_AA = pred_AA.sort_values([\"Accession\", \"Pos\"])\n",
    "    pred_AA = pred_AA.reset_index(drop=True)\n",
    "\n",
    "# Make sure 'Accession' and 'Pos' of all original sequences are in the prediction\n",
    "assert all(true_AA[\"Accession\"] == pred_AA[\"Accession\"])\n",
    "assert all(true_AA[\"Pos\"] == pred_AA[\"Pos\"])\n",
    "\n",
    "# See if amino acid state of original sequences can be recovered\n",
    "pred_true = true_AA[\"AA_state\"] == pred_AA[\"AA_state\"]\n",
    "pred_true = pd.concat([true_AA[\"Accession\"], true_AA[\"Pos\"], pred_true], axis=1)\n",
    "\n",
    "plt.imshow(\n",
    "    pred_true.pivot_table(\n",
    "        index=\"Accession\",\n",
    "        columns=\"Pos\",\n",
    "        values=\"AA_state\",\n",
    "        sort=False\n",
    "    ),\n",
    ")\n",
    "plt.title(sum(pred_true[\"AA_state\"]) / len(true_AA))\n",
    "plt.show()\n",
    "plt.close()\n"
   ]
  }
 ],
 "metadata": {
  "interpreter": {
   "hash": "daa14faf8439db85a4a7a42dc4255e6aa0c12b95e893d9ba9ee5705e6b12479d"
  },
  "kernelspec": {
   "display_name": "Python 3.9.7 64-bit ('fixynergy': conda)",
   "language": "python",
   "name": "python3"
  },
  "language_info": {
   "codemirror_mode": {
    "name": "ipython",
    "version": 3
   },
   "file_extension": ".py",
   "mimetype": "text/x-python",
   "name": "python",
   "nbconvert_exporter": "python",
   "pygments_lexer": "ipython3",
   "version": "3.9.7"
  },
  "orig_nbformat": 4
 },
 "nbformat": 4,
 "nbformat_minor": 2
}
