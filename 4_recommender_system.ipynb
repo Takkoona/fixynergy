{
 "cells": [
  {
   "cell_type": "code",
   "execution_count": 1,
   "metadata": {},
   "outputs": [],
   "source": [
    "import pandas as pd\n",
    "import torch\n",
    "from torch.utils.data import DataLoader\n",
    "from matplotlib import pyplot as plt\n",
    "\n",
    "from utils import (\n",
    "    logging,\n",
    "    TRAINING_DATA_FILE,\n",
    "    TRAINING_LOSSES_PLOT,\n",
    "    MUTATION_SCORES_FILE,\n",
    ")\n",
    "from utils.modelling import Fixynergy, MutationDataset\n",
    "\n",
    "use_cuda = torch.cuda.is_available()\n",
    "# use_cuda = False\n",
    "device = torch.device(\"cuda:0\" if use_cuda else \"cpu\")\n",
    "logging.info(f\"Using device {device}\")\n",
    "\n",
    "n_factors = 10\n",
    "\n",
    "batch_size = 128\n",
    "shuffle = True\n",
    "learning_rate = 1e-4\n",
    "weight_decay = 1e-5\n",
    "n_epochs = 100\n"
   ]
  },
  {
   "cell_type": "code",
   "execution_count": 2,
   "metadata": {},
   "outputs": [],
   "source": [
    "logging.info(\"Load data...\")\n",
    "seq_mut: pd.DataFrame = pd.read_feather(TRAINING_DATA_FILE)\n",
    "\n",
    "training_data = MutationDataset(seq_mut)\n",
    "\n",
    "model = Fixynergy(\n",
    "    n_seq=training_data.n_seq,\n",
    "    n_pos=training_data.n_pos,\n",
    "    n_factors=n_factors,\n",
    "    n_states=training_data.n_states\n",
    ")\n",
    "model.to(device)\n",
    "loss_fn = torch.nn.CrossEntropyLoss()\n",
    "optimizer = torch.optim.Adam(\n",
    "    model.parameters(),\n",
    "    lr=learning_rate,\n",
    "    weight_decay=weight_decay\n",
    ")\n"
   ]
  },
  {
   "cell_type": "code",
   "execution_count": 3,
   "metadata": {},
   "outputs": [
    {
     "data": {
      "image/png": "[encoded data removed]",
      "text/plain": [
       "<Figure size 432x288 with 1 Axes>"
      ]
     },
     "metadata": {
      "needs_background": "light"
     },
     "output_type": "display_data"
    }
   ],
   "source": [
    "logging.info(\"Start training\")\n",
    "\n",
    "model.train()\n",
    "\n",
    "losses = []\n",
    "seq_ids: torch.Tensor\n",
    "pos_ids: torch.Tensor\n",
    "targets: torch.Tensor\n",
    "pred: torch.Tensor\n",
    "loss: torch.Tensor\n",
    "for epoch in range(n_epochs):\n",
    "    # training_data.balance_values()\n",
    "    for (seq_ids, pos_ids), targets in DataLoader(\n",
    "        training_data,\n",
    "        batch_size=batch_size,\n",
    "        shuffle=shuffle\n",
    "    ):\n",
    "        seq_ids = seq_ids.to(device)\n",
    "        pos_ids = pos_ids.to(device)\n",
    "\n",
    "        pred = model(seq_ids, pos_ids)\n",
    "        targets = targets.to(device)\n",
    "        # targets = targets.float().view(pred.size())\n",
    "        loss: torch.Tensor = loss_fn(pred, targets.float())\n",
    "\n",
    "        optimizer.zero_grad()\n",
    "        loss.backward()\n",
    "        optimizer.step()\n",
    "\n",
    "    logging.info(f\"{epoch + 1}/{n_epochs}, loss: {loss.item()}\")\n",
    "    losses.append({\n",
    "        \"epoch\": epoch,\n",
    "        \"loss\": loss.item()\n",
    "    })\n",
    "\n",
    "losses = pd.DataFrame.from_records(losses, index=\"epoch\")\n",
    "\n",
    "# plt.plot(losses[losses.index > n_epochs * 0.2][\"loss\"])\n",
    "plt.plot(losses[\"loss\"])\n",
    "plt.savefig(TRAINING_LOSSES_PLOT)\n",
    "logging.info(f\"{TRAINING_LOSSES_PLOT} saved!\")"
   ]
  },
  {
   "cell_type": "code",
   "execution_count": 58,
   "metadata": {},
   "outputs": [],
   "source": [
    "logging.info(\"AA score matrix\")\n",
    "\n",
    "model.eval()\n",
    "\n",
    "aa_mapping = dict(seq_mut[[\"AA_idx\", \"AA\"]].drop_duplicates().values)\n",
    "n_pos = len(training_data.pos_id2name)\n",
    "aa_scores = []\n",
    "with torch.no_grad():\n",
    "    for seq_id, seq_name in training_data.seq_id2name.items():\n",
    "        seq_ids = torch.Tensor(torch.Tensor([seq_id] * n_pos)).int().to(device)\n",
    "        pos_ids = torch.Tensor(training_data.pos_id2name.index).int().to(device)\n",
    "        pred: torch.Tensor = model(seq_ids, pos_ids)\n",
    "        scores = pd.DataFrame(pred.data.cpu().numpy())\n",
    "        scores = scores.rename(columns=aa_mapping)\n",
    "        scores[\"Pos\"] = training_data.pos_id2name.values\n",
    "        scores[\"Accession\"] = seq_name\n",
    "        aa_scores.append(scores)\n",
    "\n",
    "aa_scores: pd.DataFrame = pd.concat(aa_scores).reset_index(drop=True)\n",
    "aa_scores.to_feather(MUTATION_SCORES_FILE)\n",
    "logging.info(f\"{MUTATION_SCORES_FILE} saved!\")\n"
   ]
  }
 ],
 "metadata": {
  "interpreter": {
   "hash": "daa14faf8439db85a4a7a42dc4255e6aa0c12b95e893d9ba9ee5705e6b12479d"
  },
  "kernelspec": {
   "display_name": "Python 3.9.7 64-bit ('fixynergy': conda)",
   "language": "python",
   "name": "python3"
  },
  "language_info": {
   "codemirror_mode": {
    "name": "ipython",
    "version": 3
   },
   "file_extension": ".py",
   "mimetype": "text/x-python",
   "name": "python",
   "nbconvert_exporter": "python",
   "pygments_lexer": "ipython3",
   "version": "3.9.7"
  },
  "orig_nbformat": 4
 },
 "nbformat": 4,
 "nbformat_minor": 2
}
