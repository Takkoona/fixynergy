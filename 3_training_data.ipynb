{
 "cells": [
  {
   "cell_type": "code",
   "execution_count": 1,
   "metadata": {},
   "outputs": [],
   "source": [
    "# Uncomment and run to reload libs\n",
    "# import importlib\n",
    "# import utils\n",
    "# importlib.reload(utils)\n",
    "# import utils.miscellaneous\n",
    "# importlib.reload(utils.miscellaneous)\n",
    "# import utils.reader\n",
    "# importlib.reload(utils.reader)\n",
    "\n",
    "\n",
    "import json\n",
    "\n",
    "import pandas as pd\n",
    "\n",
    "from utils import (\n",
    "    logging,\n",
    "    TRAINING_DATA_FILE,\n",
    "    DUMMY_SEQ_NAMES_FILE\n",
    ")\n",
    "from utils.reader import AminoAcidComboReader\n"
   ]
  },
  {
   "cell_type": "code",
   "execution_count": 2,
   "metadata": {},
   "outputs": [],
   "source": [
    "aa_combo_reader: AminoAcidComboReader = AminoAcidComboReader()\n",
    "training_data = aa_combo_reader.before_date_data()\n"
   ]
  },
  {
   "cell_type": "code",
   "execution_count": 3,
   "metadata": {},
   "outputs": [],
   "source": [
    "# Add 'Pos_id' for all sites\n",
    "all_pos: pd.DataFrame = training_data[[\"Protein\", \"Pos\"]].drop_duplicates()\n",
    "all_pos = all_pos.sort_values([\"Protein\", \"Pos\"])\n",
    "all_pos = all_pos.reset_index(drop=True)\n",
    "all_pos.index = all_pos.index.set_names(\"Pos_id\")\n",
    "all_pos = all_pos.reset_index()\n",
    "\n",
    "training_data = training_data.merge(all_pos, on=[\"Protein\", \"Pos\"])\n"
   ]
  },
  {
   "cell_type": "code",
   "execution_count": 4,
   "metadata": {},
   "outputs": [],
   "source": [
    "# Add 'Seq_id'\n",
    "seq_info = pd.DataFrame(\n",
    "    training_data[\"Accession\"].unique(),\n",
    "    columns=[\"Accession\"]\n",
    ")\n",
    "seq_info[\"Seq_id\"] = seq_info.index\n",
    "training_data = training_data.merge(seq_info, on=\"Accession\")\n",
    "logging.info(f\"{len(training_data.index)}\")\n"
   ]
  },
  {
   "cell_type": "code",
   "execution_count": 5,
   "metadata": {},
   "outputs": [],
   "source": [
    "dummy_seqs = training_data[[\"Protein\", \"To\", \"Pos\", \"Pos_id\"]].drop_duplicates()\n",
    "dummy_seqs[\"Mutation\"] = dummy_seqs[\"Protein\"] + \"_\" + dummy_seqs[\"Pos\"].astype(str) + dummy_seqs[\"To\"]\n"
   ]
  },
  {
   "cell_type": "code",
   "execution_count": 6,
   "metadata": {},
   "outputs": [
    {
     "data": {
      "text/html": [
       "<div>\n",
       "<style scoped>\n",
       "    .dataframe tbody tr th:only-of-type {\n",
       "        vertical-align: middle;\n",
       "    }\n",
       "\n",
       "    .dataframe tbody tr th {\n",
       "        vertical-align: top;\n",
       "    }\n",
       "\n",
       "    .dataframe thead th {\n",
       "        text-align: right;\n",
       "    }\n",
       "</style>\n",
       "<table border=\"1\" class=\"dataframe\">\n",
       "  <thead>\n",
       "    <tr style=\"text-align: right;\">\n",
       "      <th></th>\n",
       "      <th>Protein</th>\n",
       "      <th>To</th>\n",
       "      <th>Pos</th>\n",
       "      <th>Pos_id</th>\n",
       "      <th>Mutation</th>\n",
       "    </tr>\n",
       "  </thead>\n",
       "  <tbody>\n",
       "    <tr>\n",
       "      <th>1</th>\n",
       "      <td>Spike</td>\n",
       "      <td>G</td>\n",
       "      <td>614</td>\n",
       "      <td>613</td>\n",
       "      <td>Spike_614G</td>\n",
       "    </tr>\n",
       "    <tr>\n",
       "      <th>1398551</th>\n",
       "      <td>Spike</td>\n",
       "      <td>D</td>\n",
       "      <td>614</td>\n",
       "      <td>613</td>\n",
       "      <td>Spike_614D</td>\n",
       "    </tr>\n",
       "    <tr>\n",
       "      <th>1405291</th>\n",
       "      <td>Spike</td>\n",
       "      <td>S</td>\n",
       "      <td>614</td>\n",
       "      <td>613</td>\n",
       "      <td>Spike_614S</td>\n",
       "    </tr>\n",
       "  </tbody>\n",
       "</table>\n",
       "</div>"
      ],
      "text/plain": [
       "        Protein To  Pos  Pos_id    Mutation\n",
       "1         Spike  G  614     613  Spike_614G\n",
       "1398551   Spike  D  614     613  Spike_614D\n",
       "1405291   Spike  S  614     613  Spike_614S"
      ]
     },
     "execution_count": 6,
     "metadata": {},
     "output_type": "execute_result"
    }
   ],
   "source": [
    "dummy_seqs[dummy_seqs[\"Pos\"] == 614]"
   ]
  },
  {
   "cell_type": "code",
   "execution_count": 7,
   "metadata": {},
   "outputs": [],
   "source": [
    "training_data = pd.concat([\n",
    "    training_data,\n",
    "    pd.DataFrame({\n",
    "        \"Accession\": dummy_seqs[\"Mutation\"].values,\n",
    "        \"Lineage\": \"None\",\n",
    "        \"Date\": training_data[\"Date\"].max(),\n",
    "        \"Seq_id\": dummy_seqs[\"Pos_id\"].values + len(seq_info[\"Seq_id\"]),\n",
    "        \"Protein\": dummy_seqs[\"Protein\"],\n",
    "        \"Pos\": dummy_seqs[\"Pos\"].values,\n",
    "        \"To\": dummy_seqs[\"To\"].values,\n",
    "        \"Pos_id\": dummy_seqs[\"Pos_id\"].values\n",
    "    })\n",
    "])\n",
    "logging.info(f\"{len(training_data)} after dummy added\")\n"
   ]
  },
  {
   "cell_type": "code",
   "execution_count": 8,
   "metadata": {},
   "outputs": [],
   "source": [
    "training_data = training_data.rename(columns={\"To\": \"AA_state\"})\n",
    "aa_table = training_data[\"AA_state\"].unique()\n",
    "aa_table.sort()\n",
    "aa_table = pd.Series(aa_table)\n",
    "aa_table.index.name = \"AA_idx\"\n",
    "aa_table = aa_table.reset_index(name=\"AA_state\")\n",
    "\n",
    "training_data = training_data.merge(aa_table, on=\"AA_state\")\n"
   ]
  },
  {
   "cell_type": "code",
   "execution_count": 9,
   "metadata": {},
   "outputs": [],
   "source": [
    "training_data.reset_index(drop=True)\n",
    "training_data.to_feather(TRAINING_DATA_FILE)\n",
    "logging.info(f\"{TRAINING_DATA_FILE} saved!\")\n",
    "\n",
    "with open(DUMMY_SEQ_NAMES_FILE, \"w\") as f:\n",
    "    json.dump(list(dummy_seqs[\"Mutation\"].values), f)\n"
   ]
  }
 ],
 "metadata": {
  "interpreter": {
   "hash": "daa14faf8439db85a4a7a42dc4255e6aa0c12b95e893d9ba9ee5705e6b12479d"
  },
  "kernelspec": {
   "display_name": "Python 3.9.7 64-bit ('fixynergy': conda)",
   "language": "python",
   "name": "python3"
  },
  "language_info": {
   "codemirror_mode": {
    "name": "ipython",
    "version": 3
   },
   "file_extension": ".py",
   "mimetype": "text/x-python",
   "name": "python",
   "nbconvert_exporter": "python",
   "pygments_lexer": "ipython3",
   "version": "3.9.7"
  },
  "orig_nbformat": 4
 },
 "nbformat": 4,
 "nbformat_minor": 2
}
