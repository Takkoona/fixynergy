{
 "cells": [
  {
   "cell_type": "code",
   "execution_count": 1,
   "metadata": {},
   "outputs": [],
   "source": [
    "import json\n",
    "from multiprocessing import Pool, Manager, cpu_count\n",
    "\n",
    "import pandas as pd\n",
    "\n",
    "from utils import (\n",
    "    logging,\n",
    "    TARGET_PROTEIN,\n",
    "    SAMPLE_END_DATE,\n",
    "    MUTATION_PER_SEQ_FILE,\n",
    "    TRAINING_DATA_FILE,\n",
    "    DUMMY_SEQ_NAMES_FILE\n",
    ")\n",
    "from utils.miscellaneous import mut_seq_info, aa_per_seq\n"
   ]
  },
  {
   "cell_type": "code",
   "execution_count": 2,
   "metadata": {},
   "outputs": [],
   "source": [
    "logging.info(\"Load data...\")\n",
    "df: pd.DataFrame = pd.read_feather(MUTATION_PER_SEQ_FILE)\n",
    "\n",
    "df[\"Date\"] = pd.to_datetime(df[\"Date\"])\n",
    "df = df[df[\"Date\"] < SAMPLE_END_DATE]\n",
    "logging.info(f\"{mut_seq_info(df)} before {SAMPLE_END_DATE}\")\n",
    "\n",
    "df = df[df[\"Mutation\"].str.contains(TARGET_PROTEIN)]\n",
    "logging.info(f\"{mut_seq_info(df)} are on {TARGET_PROTEIN}\")\n",
    "\n",
    "df = df[~df[\"Mutation\"].str.contains(\"stop\")]\n",
    "logging.info(f\"{mut_seq_info(df)} are not stop codon\")\n",
    "\n",
    "df = df[~df[\"Mutation\"].str.contains(\"ins\")]\n",
    "logging.info(f\"{mut_seq_info(df)} are not insertion\")\n"
   ]
  },
  {
   "cell_type": "code",
   "execution_count": 3,
   "metadata": {},
   "outputs": [],
   "source": [
    "mut_info = pd.DataFrame(\n",
    "    df[\"Mutation\"].unique(),\n",
    "    columns=[\"Mutation\"]\n",
    ")\n",
    "mut_info_split = mut_info[\"Mutation\"].str.split(\"_\").str\n",
    "mut_aa = mut_info_split[1].str.split(\"(\\w)(\\d+)(\\w+)\", expand=True)\n",
    "mut_info[\"From\"] = mut_aa[1]\n",
    "mut_info[\"Pos\"] = mut_aa[2].astype(int)\n",
    "mut_info[\"To\"] = mut_aa[3]\n",
    "\n",
    "all_pos = mut_info[\"Pos\"].unique()\n",
    "all_pos.sort()\n",
    "all_pos = pd.Series(all_pos, name=\"Pos\")\n",
    "all_pos = pd.DataFrame({\n",
    "    \"Pos\": all_pos.values,\n",
    "    \"Pos_id\": all_pos.index\n",
    "})\n",
    "mut_info = mut_info.merge(all_pos, on=\"Pos\")\n",
    "\n",
    "pos_info = mut_info[[\"From\", \"Pos\", \"Pos_id\"]]\n",
    "pos_info = pos_info.drop_duplicates().reset_index(drop=True)\n",
    "pos_info = pos_info.rename(columns={\"From\": \"To\"})\n",
    "logging.info(f\"{len(pos_info)} mutated pos\")\n"
   ]
  },
  {
   "cell_type": "code",
   "execution_count": 4,
   "metadata": {},
   "outputs": [],
   "source": [
    "training_data = df.merge(mut_info, on=\"Mutation\")\n",
    "\n",
    "with Pool(cpu_count()) as p, Manager() as manager:\n",
    "    aa_info_dict = manager.dict()\n",
    "    p.starmap(\n",
    "        func=aa_per_seq,\n",
    "        iterable=((*i, pos_info, aa_info_dict)\n",
    "                  for i in training_data.groupby(\"Accession\", sort=False))\n",
    "    )\n",
    "    all_mut_comb = tuple(tuple(i) for i in aa_info_dict.keys())\n",
    "    logging.info(f\"{len(all_mut_comb)} mutation combination\")\n",
    "    training_data = pd.concat(\n",
    "        list(aa_info_dict.values())).reset_index(drop=True)\n",
    "    logging.info(f\"{len(training_data)} data points\")\n"
   ]
  },
  {
   "cell_type": "code",
   "execution_count": 5,
   "metadata": {},
   "outputs": [],
   "source": [
    "seq_info = pd.DataFrame(\n",
    "    training_data[\"Accession\"].unique(),\n",
    "    columns=[\"Accession\"]\n",
    ")\n",
    "seq_info[\"Seq_id\"] = seq_info.index\n",
    "training_data = training_data.merge(seq_info, on=\"Accession\")\n"
   ]
  },
  {
   "cell_type": "code",
   "execution_count": 6,
   "metadata": {},
   "outputs": [],
   "source": [
    "dummy_seqs = []\n",
    "for pos, pos_group in mut_info.groupby(\"Pos\"):\n",
    "    unmutated = pos_group.iloc[0].to_dict()\n",
    "    unmutated[\"To\"] = unmutated[\"From\"]\n",
    "    unmutated[\"Mutation\"] = f\"{unmutated['Pos']}{unmutated['From']}\"\n",
    "    pos_group = pos_group.append(unmutated, ignore_index=True)\n",
    "    dummy_seqs.append(pos_group)\n",
    "\n",
    "dummy_seqs = pd.concat(dummy_seqs).reset_index(drop=True)\n"
   ]
  },
  {
   "cell_type": "code",
   "execution_count": 7,
   "metadata": {},
   "outputs": [],
   "source": [
    "training_data = pd.concat([\n",
    "    training_data,\n",
    "    pd.DataFrame({\n",
    "        \"Accession\": dummy_seqs[\"Mutation\"].values,\n",
    "        \"Lineage\": \"None\",\n",
    "        \"Date\": SAMPLE_END_DATE,\n",
    "        \"Seq_id\": dummy_seqs[\"Pos_id\"].values + len(seq_info[\"Seq_id\"]),\n",
    "        \"Pos\": dummy_seqs[\"Pos\"].values,\n",
    "        \"To\": dummy_seqs[\"To\"].values,\n",
    "        \"Pos_id\": dummy_seqs[\"Pos_id\"].values\n",
    "    })\n",
    "])\n",
    "logging.info(f\"{len(training_data)} after dummy added\")\n"
   ]
  },
  {
   "cell_type": "code",
   "execution_count": 8,
   "metadata": {},
   "outputs": [],
   "source": [
    "training_data = training_data.rename(columns={\"To\": \"AA\"})\n",
    "aa_table = training_data[\"AA\"].unique()\n",
    "aa_table.sort()\n",
    "aa_table = pd.Series(aa_table)\n",
    "aa_table.index.name = \"AA_idx\"\n",
    "aa_table = aa_table.reset_index(name=\"AA\")\n",
    "\n",
    "training_data = training_data.merge(aa_table, on=\"AA\")\n"
   ]
  },
  {
   "cell_type": "code",
   "execution_count": 9,
   "metadata": {},
   "outputs": [],
   "source": [
    "training_data.reset_index(drop=True)\n",
    "training_data.to_feather(TRAINING_DATA_FILE)\n",
    "logging.info(f\"{TRAINING_DATA_FILE} saved!\")\n"
   ]
  },
  {
   "cell_type": "code",
   "execution_count": 10,
   "metadata": {},
   "outputs": [],
   "source": [
    "with open(DUMMY_SEQ_NAMES_FILE, \"w\") as f:\n",
    "    json.dump(list(dummy_seqs[\"Mutation\"].values), f)\n"
   ]
  }
 ],
 "metadata": {
  "interpreter": {
   "hash": "daa14faf8439db85a4a7a42dc4255e6aa0c12b95e893d9ba9ee5705e6b12479d"
  },
  "kernelspec": {
   "display_name": "Python 3.9.7 64-bit ('fixynergy': conda)",
   "language": "python",
   "name": "python3"
  },
  "language_info": {
   "codemirror_mode": {
    "name": "ipython",
    "version": 3
   },
   "file_extension": ".py",
   "mimetype": "text/x-python",
   "name": "python",
   "nbconvert_exporter": "python",
   "pygments_lexer": "ipython3",
   "version": "3.9.7"
  },
  "orig_nbformat": 4
 },
 "nbformat": 4,
 "nbformat_minor": 2
}
