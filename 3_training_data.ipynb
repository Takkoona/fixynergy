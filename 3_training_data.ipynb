{
 "cells": [
  {
   "cell_type": "code",
   "execution_count": 1,
   "metadata": {},
   "outputs": [],
   "source": [
    "import logging\n",
    "import logging.config\n",
    "from datetime import datetime\n",
    "\n",
    "import pandas as pd\n",
    "\n",
    "\n",
    "TARGET_PROTEIN = \"Spike\"\n",
    "SAMPLE_END_DATE = datetime(2020, 8, 1)\n",
    "MUTATION_SCORE = 1\n",
    "MISSING_PENALTY = 0\n",
    "\n",
    "MUTATION_PER_SEQ_FILE = \"Output/mutation_per_seq.feather\"\n",
    "\n",
    "TRAINING_DATA_FILE = \"Output/training_data.csv\"\n",
    "\n",
    "\n",
    "def mut_seq_info(df: pd .DataFrame):\n",
    "    mut_n = df['Mutation'].nunique()\n",
    "    seq_n = df['Accession'].nunique()\n",
    "    return f\"{mut_n} mutations of {seq_n} seqs\"\n",
    "\n",
    "\n",
    "logging.config.fileConfig(\"logging.conf\")\n"
   ]
  },
  {
   "cell_type": "code",
   "execution_count": 5,
   "metadata": {},
   "outputs": [
    {
     "name": "stderr",
     "output_type": "stream",
     "text": [
      "[2022-01-09 12:11:09 AM]: Load data...\n",
      "[2022-01-09 12:11:32 AM]: 52466 mutations of 208877 seqs before 2020-08-01 00:00:00\n",
      "[2022-01-09 12:11:32 AM]: 7718 mutations of 185346 seqs are on Spike\n",
      "[2022-01-09 12:11:32 AM]: 7319 mutations of 185327 seqs is not stop codon\n",
      "[2022-01-09 12:11:32 AM]: 7184 mutations of 185325 seqs is not insertion\n"
     ]
    }
   ],
   "source": [
    "logging.info(\"Load data...\")\n",
    "df: pd.DataFrame = pd.read_feather(MUTATION_PER_SEQ_FILE)\n",
    "df[\"Value\"] = MUTATION_SCORE\n",
    "\n",
    "df[\"Date\"] = pd.to_datetime(df[\"Date\"])\n",
    "df = df[df[\"Date\"] < SAMPLE_END_DATE]\n",
    "logging.info(f\"{mut_seq_info(df)} before {SAMPLE_END_DATE}\")\n",
    "\n",
    "df = df[df[\"Mutation\"].str.contains(TARGET_PROTEIN)]\n",
    "logging.info(f\"{mut_seq_info(df)} are on {TARGET_PROTEIN}\")\n",
    "\n",
    "df = df[~df[\"Mutation\"].str.contains(\"stop\")]\n",
    "logging.info(f\"{mut_seq_info(df)} is not stop codon\")\n",
    "\n",
    "df = df[~df[\"Mutation\"].str.contains(\"ins\")]\n",
    "logging.info(f\"{mut_seq_info(df)} is not insertion\")"
   ]
  },
  {
   "cell_type": "code",
   "execution_count": 6,
   "metadata": {},
   "outputs": [
    {
     "name": "stderr",
     "output_type": "stream",
     "text": [
      "[2022-01-09 12:14:41 AM]: pivot_table done!\n",
      "[2022-01-09 12:14:53 AM]: 7184 mutations of 7288 seqs are unique\n",
      "[2022-01-09 12:14:53 AM]: Output/training_data.csv saved!\n"
     ]
    }
   ],
   "source": [
    "# training_data = df\n",
    "training_data = df.pivot_table(\n",
    "    index=\"Accession\",\n",
    "    columns=\"Mutation\",\n",
    "    values=\"Value\",\n",
    "    fill_value=MISSING_PENALTY\n",
    ")\n",
    "logging.info(\"pivot_table done!\")\n",
    "\n",
    "training_data = pd.DataFrame(\n",
    "    training_data.drop_duplicates().stack(),\n",
    "    columns=[\"Value\"]\n",
    ")\n",
    "logging.info(\"Duplicates removed\")\n",
    "training_data = training_data[training_data[\"Value\"] != MISSING_PENALTY]\n",
    "\n",
    "seq_info = df[[\"Accession\", \"Lineage\", \"Date\"]].drop_duplicates()\n",
    "seq_info = seq_info.set_index(\"Accession\")\n",
    "\n",
    "training_data[\"Lineage\"] = seq_info.loc[\n",
    "    training_data.index.get_level_values(\"Accession\"),\n",
    "    \"Lineage\"\n",
    "].values\n",
    "training_data[\"Date\"] = seq_info.loc[\n",
    "    training_data.index.get_level_values(\"Accession\"),\n",
    "    \"Date\"\n",
    "].values\n",
    "training_data = training_data.reset_index()\n",
    "logging.info(f\"{mut_seq_info(training_data)} are unique\")\n",
    "\n",
    "seq_names = pd.DataFrame(\n",
    "    training_data[\"Accession\"].unique(),\n",
    "    columns=[\"Accession\"]\n",
    ")\n",
    "seq_names[\"Seq_id\"] = seq_names.index\n",
    "mut_names = pd.DataFrame(\n",
    "    training_data[\"Mutation\"].unique(),\n",
    "    columns=[\"Mutation\"]\n",
    ")\n",
    "mut_names[\"Mut_id\"] = mut_names.index\n",
    "\n",
    "training_data = training_data.merge(seq_names, on=\"Accession\")\n",
    "training_data = training_data.merge(mut_names, on=\"Mutation\")\n",
    "\n",
    "training_data = training_data.sort_values(\"Accession\")\n",
    "training_data = training_data.sort_values(\"Date\")\n",
    "training_data.to_csv(TRAINING_DATA_FILE, index=False)\n",
    "logging.info(f\"{TRAINING_DATA_FILE} saved!\")\n"
   ]
  }
 ],
 "metadata": {
  "interpreter": {
   "hash": "daa14faf8439db85a4a7a42dc4255e6aa0c12b95e893d9ba9ee5705e6b12479d"
  },
  "kernelspec": {
   "display_name": "Python 3.9.7 64-bit ('fixynergy': conda)",
   "language": "python",
   "name": "python3"
  },
  "language_info": {
   "codemirror_mode": {
    "name": "ipython",
    "version": 3
   },
   "file_extension": ".py",
   "mimetype": "text/x-python",
   "name": "python",
   "nbconvert_exporter": "python",
   "pygments_lexer": "ipython3",
   "version": "3.9.7"
  },
  "orig_nbformat": 4
 },
 "nbformat": 4,
 "nbformat_minor": 2
}
