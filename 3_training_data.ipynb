{
 "cells": [
  {
   "cell_type": "code",
   "execution_count": 1,
   "metadata": {},
   "outputs": [],
   "source": [
    "import pandas as pd\n",
    "\n",
    "from manage import (\n",
    "    logging,\n",
    "    TARGET_PROTEIN,\n",
    "    SAMPLE_END_DATE,\n",
    "    MUTATION_SCORE,\n",
    "    MISSING_PENALTY,\n",
    "    MUTATION_PER_SEQ_FILE,\n",
    "    TRAINING_DATA_FILE,\n",
    "    mut_seq_info\n",
    ")\n"
   ]
  },
  {
   "cell_type": "code",
   "execution_count": 2,
   "metadata": {},
   "outputs": [
    {
     "name": "stderr",
     "output_type": "stream",
     "text": [
      "[2022-01-09 05:54:05 PM]: Load data...\n",
      "[2022-01-09 05:54:27 PM]: 22217 mutations of 109924 seqs before 2020-05-01 00:00:00\n",
      "[2022-01-09 05:54:27 PM]: 3070 mutations of 89201 seqs are on Spike\n",
      "[2022-01-09 05:54:27 PM]: 3003 mutations of 89191 seqs are not stop codon\n",
      "[2022-01-09 05:54:28 PM]: 2984 mutations of 89189 seqs are not insertion\n"
     ]
    }
   ],
   "source": [
    "logging.info(\"Load data...\")\n",
    "df: pd.DataFrame = pd.read_feather(MUTATION_PER_SEQ_FILE)\n",
    "df[\"Value\"] = MUTATION_SCORE\n",
    "\n",
    "df[\"Date\"] = pd.to_datetime(df[\"Date\"])\n",
    "df = df[df[\"Date\"] < SAMPLE_END_DATE]\n",
    "logging.info(f\"{mut_seq_info(df)} before {SAMPLE_END_DATE}\")\n",
    "\n",
    "df = df[df[\"Mutation\"].str.contains(TARGET_PROTEIN)]\n",
    "logging.info(f\"{mut_seq_info(df)} are on {TARGET_PROTEIN}\")\n",
    "\n",
    "df = df[~df[\"Mutation\"].str.contains(\"stop\")]\n",
    "logging.info(f\"{mut_seq_info(df)} are not stop codon\")\n",
    "\n",
    "df = df[~df[\"Mutation\"].str.contains(\"ins\")]\n",
    "logging.info(f\"{mut_seq_info(df)} are not insertion\")\n"
   ]
  },
  {
   "cell_type": "code",
   "execution_count": 3,
   "metadata": {},
   "outputs": [
    {
     "name": "stderr",
     "output_type": "stream",
     "text": [
      "[2022-01-09 05:54:43 PM]: pivot_table done!\n",
      "[2022-01-09 05:54:46 PM]: Duplicates removed\n"
     ]
    }
   ],
   "source": [
    "mutation_socre_matrix = df.pivot_table(\n",
    "    index=\"Accession\",\n",
    "    columns=\"Mutation\",\n",
    "    values=\"Value\",\n",
    "    fill_value=MISSING_PENALTY,\n",
    "    sort=False,\n",
    ")\n",
    "logging.info(\"pivot_table done!\")\n",
    "\n",
    "mutation_socre_matrix = mutation_socre_matrix.drop_duplicates()\n",
    "logging.info(\"Duplicates removed\")\n"
   ]
  },
  {
   "cell_type": "code",
   "execution_count": 4,
   "metadata": {},
   "outputs": [
    {
     "name": "stderr",
     "output_type": "stream",
     "text": [
      "[2022-01-09 05:54:47 PM]: Lineage assigned\n",
      "[2022-01-09 05:54:48 PM]: Dates assigned\n",
      "[2022-01-09 05:54:49 PM]: 2984 mutations of 3335 seqs are unique\n",
      "[2022-01-09 05:54:51 PM]: Seq_id assigned\n",
      "[2022-01-09 05:54:53 PM]: Mut_id assigned\n"
     ]
    }
   ],
   "source": [
    "training_data = pd.DataFrame(\n",
    "    mutation_socre_matrix.stack(),\n",
    "    columns=[\"Value\"]\n",
    ")\n",
    "# training_data = training_data[training_data[\"Value\"] != MISSING_PENALTY]\n",
    "seq_info = df[[\"Accession\", \"Lineage\", \"Date\"]].drop_duplicates()\n",
    "seq_info = seq_info.set_index(\"Accession\")\n",
    "\n",
    "training_data[\"Lineage\"] = seq_info.loc[\n",
    "    training_data.index.get_level_values(\"Accession\"),\n",
    "    \"Lineage\"\n",
    "].values\n",
    "logging.info(f\"Lineage assigned\")\n",
    "\n",
    "training_data[\"Date\"] = seq_info.loc[\n",
    "    training_data.index.get_level_values(\"Accession\"),\n",
    "    \"Date\"\n",
    "].values\n",
    "logging.info(f\"Dates assigned\")\n",
    "\n",
    "training_data = training_data.reset_index()\n",
    "logging.info(f\"{mut_seq_info(training_data)} are unique\")\n",
    "\n",
    "seq_names = pd.DataFrame(\n",
    "    training_data[\"Accession\"].unique(),\n",
    "    columns=[\"Accession\"]\n",
    ")\n",
    "seq_names[\"Seq_id\"] = seq_names.index\n",
    "training_data = training_data.merge(seq_names, on=\"Accession\")\n",
    "logging.info(f\"Seq_id assigned\")\n",
    "\n",
    "mut_names = pd.DataFrame(\n",
    "    training_data[\"Mutation\"].unique(),\n",
    "    columns=[\"Mutation\"]\n",
    ")\n",
    "mut_names[\"Mut_id\"] = mut_names.index\n",
    "training_data = training_data.merge(mut_names, on=\"Mutation\")\n",
    "logging.info(f\"Mut_id assigned\")\n"
   ]
  },
  {
   "cell_type": "code",
   "execution_count": 5,
   "metadata": {},
   "outputs": [
    {
     "name": "stderr",
     "output_type": "stream",
     "text": [
      "[2022-01-09 05:54:55 PM]: 2984 mutations of 6319 seqs after dummy added\n",
      "[2022-01-09 05:54:56 PM]: Output/training_data.feather saved!\n"
     ]
    }
   ],
   "source": [
    "training_data = pd.concat([\n",
    "    training_data,\n",
    "    pd.DataFrame({\n",
    "        \"Accession\": mut_names[\"Mutation\"].values,\n",
    "        \"Mutation\": mut_names[\"Mutation\"].values,\n",
    "        \"Value\": 1,\n",
    "        \"Lineage\": \"None\",\n",
    "        \"Date\": SAMPLE_END_DATE,\n",
    "        \"Seq_id\": mut_names[\"Mutation\"].index + len(seq_names[\"Seq_id\"]),\n",
    "        \"Mut_id\": mut_names[\"Mutation\"].index\n",
    "    })\n",
    "])\n",
    "training_data = training_data.reset_index(drop=True)\n",
    "logging.info(f\"{mut_seq_info(training_data)} after dummy added\")\n",
    "\n",
    "# training_data = training_data.sort_values(\"Accession\")\n",
    "# training_data = training_data.sort_values(\"Date\")\n",
    "training_data.to_feather(TRAINING_DATA_FILE)\n",
    "logging.info(f\"{TRAINING_DATA_FILE} saved!\")\n"
   ]
  }
 ],
 "metadata": {
  "interpreter": {
   "hash": "daa14faf8439db85a4a7a42dc4255e6aa0c12b95e893d9ba9ee5705e6b12479d"
  },
  "kernelspec": {
   "display_name": "Python 3.9.7 64-bit ('fixynergy': conda)",
   "language": "python",
   "name": "python3"
  },
  "language_info": {
   "codemirror_mode": {
    "name": "ipython",
    "version": 3
   },
   "file_extension": ".py",
   "mimetype": "text/x-python",
   "name": "python",
   "nbconvert_exporter": "python",
   "pygments_lexer": "ipython3",
   "version": "3.9.7"
  },
  "orig_nbformat": 4
 },
 "nbformat": 4,
 "nbformat_minor": 2
}
